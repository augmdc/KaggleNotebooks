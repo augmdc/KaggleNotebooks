{
 "cells": [
  {
   "cell_type": "code",
   "execution_count": 1,
   "id": "3a568bc4",
   "metadata": {
    "_cell_guid": "b1076dfc-b9ad-4769-8c92-a6c4dae69d19",
    "_uuid": "8f2839f25d086af736a60e9eeb907d3b93b6e0e5",
    "execution": {
     "iopub.execute_input": "2023-08-10T00:21:31.863243Z",
     "iopub.status.busy": "2023-08-10T00:21:31.862604Z",
     "iopub.status.idle": "2023-08-10T00:21:31.882910Z",
     "shell.execute_reply": "2023-08-10T00:21:31.881805Z"
    },
    "papermill": {
     "duration": 0.040459,
     "end_time": "2023-08-10T00:21:31.886044",
     "exception": false,
     "start_time": "2023-08-10T00:21:31.845585",
     "status": "completed"
    },
    "tags": []
   },
   "outputs": [
    {
     "name": "stdout",
     "output_type": "stream",
     "text": [
      "/kaggle/input/spaceship-titanic/sample_submission.csv\n",
      "/kaggle/input/spaceship-titanic/train.csv\n",
      "/kaggle/input/spaceship-titanic/test.csv\n"
     ]
    }
   ],
   "source": [
    "# This Python 3 environment comes with many helpful analytics libraries installed\n",
    "# It is defined by the kaggle/python Docker image: https://github.com/kaggle/docker-python\n",
    "# For example, here's several helpful packages to load\n",
    "\n",
    "import numpy as np # linear algebra\n",
    "import pandas as pd # data processing, CSV file I/O (e.g. pd.read_csv)\n",
    "\n",
    "# Input data files are available in the read-only \"../input/\" directory\n",
    "# For example, running this (by clicking run or pressing Shift+Enter) will list all files under the input directory\n",
    "\n",
    "import os\n",
    "for dirname, _, filenames in os.walk('/kaggle/input'):\n",
    "    for filename in filenames:\n",
    "        print(os.path.join(dirname, filename))\n",
    "\n",
    "# You can write up to 20GB to the current directory (/kaggle/working/) that gets preserved as output when you create a version using \"Save & Run All\" \n",
    "# You can also write temporary files to /kaggle/temp/, but they won't be saved outside of the current session"
   ]
  },
  {
   "cell_type": "code",
   "execution_count": 2,
   "id": "45c5b522",
   "metadata": {
    "execution": {
     "iopub.execute_input": "2023-08-10T00:21:31.922698Z",
     "iopub.status.busy": "2023-08-10T00:21:31.922040Z",
     "iopub.status.idle": "2023-08-10T00:21:32.012387Z",
     "shell.execute_reply": "2023-08-10T00:21:32.010946Z"
    },
    "papermill": {
     "duration": 0.114167,
     "end_time": "2023-08-10T00:21:32.016121",
     "exception": false,
     "start_time": "2023-08-10T00:21:31.901954",
     "status": "completed"
    },
    "tags": []
   },
   "outputs": [],
   "source": [
    "train = pd.read_csv(\"/kaggle/input/spaceship-titanic/train.csv\")\n",
    "submit = pd.read_csv(\"/kaggle/input/spaceship-titanic/test.csv\")\n",
    "train_labels = train[\"Transported\"]"
   ]
  },
  {
   "cell_type": "code",
   "execution_count": 3,
   "id": "619057c5",
   "metadata": {
    "execution": {
     "iopub.execute_input": "2023-08-10T00:21:32.045986Z",
     "iopub.status.busy": "2023-08-10T00:21:32.045086Z",
     "iopub.status.idle": "2023-08-10T00:21:32.055840Z",
     "shell.execute_reply": "2023-08-10T00:21:32.054949Z"
    },
    "papermill": {
     "duration": 0.027972,
     "end_time": "2023-08-10T00:21:32.058035",
     "exception": false,
     "start_time": "2023-08-10T00:21:32.030063",
     "status": "completed"
    },
    "tags": []
   },
   "outputs": [
    {
     "data": {
      "text/plain": [
       "0       0013_01\n",
       "1       0018_01\n",
       "2       0019_01\n",
       "3       0021_01\n",
       "4       0023_01\n",
       "         ...   \n",
       "4272    9266_02\n",
       "4273    9269_01\n",
       "4274    9271_01\n",
       "4275    9273_01\n",
       "4276    9277_01\n",
       "Name: PassengerId, Length: 4277, dtype: object"
      ]
     },
     "execution_count": 3,
     "metadata": {},
     "output_type": "execute_result"
    }
   ],
   "source": [
    "submission_id = submit.PassengerId\n",
    "submission_id"
   ]
  },
  {
   "cell_type": "markdown",
   "id": "927a3e3b",
   "metadata": {
    "papermill": {
     "duration": 0.013891,
     "end_time": "2023-08-10T00:21:32.086021",
     "exception": false,
     "start_time": "2023-08-10T00:21:32.072130",
     "status": "completed"
    },
    "tags": []
   },
   "source": [
    "# Exploration"
   ]
  },
  {
   "cell_type": "code",
   "execution_count": 4,
   "id": "09426ab0",
   "metadata": {
    "execution": {
     "iopub.execute_input": "2023-08-10T00:21:32.116811Z",
     "iopub.status.busy": "2023-08-10T00:21:32.116345Z",
     "iopub.status.idle": "2023-08-10T00:21:32.124277Z",
     "shell.execute_reply": "2023-08-10T00:21:32.122986Z"
    },
    "papermill": {
     "duration": 0.026949,
     "end_time": "2023-08-10T00:21:32.127093",
     "exception": false,
     "start_time": "2023-08-10T00:21:32.100144",
     "status": "completed"
    },
    "tags": []
   },
   "outputs": [
    {
     "data": {
      "text/plain": [
       "(8693, 14)"
      ]
     },
     "execution_count": 4,
     "metadata": {},
     "output_type": "execute_result"
    }
   ],
   "source": [
    "train.shape"
   ]
  },
  {
   "cell_type": "code",
   "execution_count": 5,
   "id": "84eae27f",
   "metadata": {
    "execution": {
     "iopub.execute_input": "2023-08-10T00:21:32.162253Z",
     "iopub.status.busy": "2023-08-10T00:21:32.161262Z",
     "iopub.status.idle": "2023-08-10T00:21:32.191037Z",
     "shell.execute_reply": "2023-08-10T00:21:32.189897Z"
    },
    "papermill": {
     "duration": 0.050348,
     "end_time": "2023-08-10T00:21:32.193388",
     "exception": false,
     "start_time": "2023-08-10T00:21:32.143040",
     "status": "completed"
    },
    "tags": []
   },
   "outputs": [
    {
     "data": {
      "text/html": [
       "<div>\n",
       "<style scoped>\n",
       "    .dataframe tbody tr th:only-of-type {\n",
       "        vertical-align: middle;\n",
       "    }\n",
       "\n",
       "    .dataframe tbody tr th {\n",
       "        vertical-align: top;\n",
       "    }\n",
       "\n",
       "    .dataframe thead th {\n",
       "        text-align: right;\n",
       "    }\n",
       "</style>\n",
       "<table border=\"1\" class=\"dataframe\">\n",
       "  <thead>\n",
       "    <tr style=\"text-align: right;\">\n",
       "      <th></th>\n",
       "      <th>PassengerId</th>\n",
       "      <th>HomePlanet</th>\n",
       "      <th>CryoSleep</th>\n",
       "      <th>Cabin</th>\n",
       "      <th>Destination</th>\n",
       "      <th>Age</th>\n",
       "      <th>VIP</th>\n",
       "      <th>RoomService</th>\n",
       "      <th>FoodCourt</th>\n",
       "      <th>ShoppingMall</th>\n",
       "      <th>Spa</th>\n",
       "      <th>VRDeck</th>\n",
       "      <th>Name</th>\n",
       "      <th>Transported</th>\n",
       "    </tr>\n",
       "  </thead>\n",
       "  <tbody>\n",
       "    <tr>\n",
       "      <th>0</th>\n",
       "      <td>0001_01</td>\n",
       "      <td>Europa</td>\n",
       "      <td>False</td>\n",
       "      <td>B/0/P</td>\n",
       "      <td>TRAPPIST-1e</td>\n",
       "      <td>39.0</td>\n",
       "      <td>False</td>\n",
       "      <td>0.0</td>\n",
       "      <td>0.0</td>\n",
       "      <td>0.0</td>\n",
       "      <td>0.0</td>\n",
       "      <td>0.0</td>\n",
       "      <td>Maham Ofracculy</td>\n",
       "      <td>False</td>\n",
       "    </tr>\n",
       "    <tr>\n",
       "      <th>1</th>\n",
       "      <td>0002_01</td>\n",
       "      <td>Earth</td>\n",
       "      <td>False</td>\n",
       "      <td>F/0/S</td>\n",
       "      <td>TRAPPIST-1e</td>\n",
       "      <td>24.0</td>\n",
       "      <td>False</td>\n",
       "      <td>109.0</td>\n",
       "      <td>9.0</td>\n",
       "      <td>25.0</td>\n",
       "      <td>549.0</td>\n",
       "      <td>44.0</td>\n",
       "      <td>Juanna Vines</td>\n",
       "      <td>True</td>\n",
       "    </tr>\n",
       "    <tr>\n",
       "      <th>2</th>\n",
       "      <td>0003_01</td>\n",
       "      <td>Europa</td>\n",
       "      <td>False</td>\n",
       "      <td>A/0/S</td>\n",
       "      <td>TRAPPIST-1e</td>\n",
       "      <td>58.0</td>\n",
       "      <td>True</td>\n",
       "      <td>43.0</td>\n",
       "      <td>3576.0</td>\n",
       "      <td>0.0</td>\n",
       "      <td>6715.0</td>\n",
       "      <td>49.0</td>\n",
       "      <td>Altark Susent</td>\n",
       "      <td>False</td>\n",
       "    </tr>\n",
       "    <tr>\n",
       "      <th>3</th>\n",
       "      <td>0003_02</td>\n",
       "      <td>Europa</td>\n",
       "      <td>False</td>\n",
       "      <td>A/0/S</td>\n",
       "      <td>TRAPPIST-1e</td>\n",
       "      <td>33.0</td>\n",
       "      <td>False</td>\n",
       "      <td>0.0</td>\n",
       "      <td>1283.0</td>\n",
       "      <td>371.0</td>\n",
       "      <td>3329.0</td>\n",
       "      <td>193.0</td>\n",
       "      <td>Solam Susent</td>\n",
       "      <td>False</td>\n",
       "    </tr>\n",
       "    <tr>\n",
       "      <th>4</th>\n",
       "      <td>0004_01</td>\n",
       "      <td>Earth</td>\n",
       "      <td>False</td>\n",
       "      <td>F/1/S</td>\n",
       "      <td>TRAPPIST-1e</td>\n",
       "      <td>16.0</td>\n",
       "      <td>False</td>\n",
       "      <td>303.0</td>\n",
       "      <td>70.0</td>\n",
       "      <td>151.0</td>\n",
       "      <td>565.0</td>\n",
       "      <td>2.0</td>\n",
       "      <td>Willy Santantines</td>\n",
       "      <td>True</td>\n",
       "    </tr>\n",
       "  </tbody>\n",
       "</table>\n",
       "</div>"
      ],
      "text/plain": [
       "  PassengerId HomePlanet CryoSleep  Cabin  Destination   Age    VIP  \\\n",
       "0     0001_01     Europa     False  B/0/P  TRAPPIST-1e  39.0  False   \n",
       "1     0002_01      Earth     False  F/0/S  TRAPPIST-1e  24.0  False   \n",
       "2     0003_01     Europa     False  A/0/S  TRAPPIST-1e  58.0   True   \n",
       "3     0003_02     Europa     False  A/0/S  TRAPPIST-1e  33.0  False   \n",
       "4     0004_01      Earth     False  F/1/S  TRAPPIST-1e  16.0  False   \n",
       "\n",
       "   RoomService  FoodCourt  ShoppingMall     Spa  VRDeck               Name  \\\n",
       "0          0.0        0.0           0.0     0.0     0.0    Maham Ofracculy   \n",
       "1        109.0        9.0          25.0   549.0    44.0       Juanna Vines   \n",
       "2         43.0     3576.0           0.0  6715.0    49.0      Altark Susent   \n",
       "3          0.0     1283.0         371.0  3329.0   193.0       Solam Susent   \n",
       "4        303.0       70.0         151.0   565.0     2.0  Willy Santantines   \n",
       "\n",
       "   Transported  \n",
       "0        False  \n",
       "1         True  \n",
       "2        False  \n",
       "3        False  \n",
       "4         True  "
      ]
     },
     "execution_count": 5,
     "metadata": {},
     "output_type": "execute_result"
    }
   ],
   "source": [
    "train.head()"
   ]
  },
  {
   "cell_type": "code",
   "execution_count": 6,
   "id": "1035305d",
   "metadata": {
    "execution": {
     "iopub.execute_input": "2023-08-10T00:21:32.224713Z",
     "iopub.status.busy": "2023-08-10T00:21:32.223412Z",
     "iopub.status.idle": "2023-08-10T00:21:32.235460Z",
     "shell.execute_reply": "2023-08-10T00:21:32.234043Z"
    },
    "papermill": {
     "duration": 0.030516,
     "end_time": "2023-08-10T00:21:32.237983",
     "exception": false,
     "start_time": "2023-08-10T00:21:32.207467",
     "status": "completed"
    },
    "tags": []
   },
   "outputs": [
    {
     "data": {
      "text/plain": [
       "[('PassengerId', 0),\n",
       " ('HomePlanet', 1),\n",
       " ('CryoSleep', 2),\n",
       " ('Cabin', 3),\n",
       " ('Destination', 4),\n",
       " ('Age', 5),\n",
       " ('VIP', 6),\n",
       " ('RoomService', 7),\n",
       " ('FoodCourt', 8),\n",
       " ('ShoppingMall', 9),\n",
       " ('Spa', 10),\n",
       " ('VRDeck', 11),\n",
       " ('Name', 12),\n",
       " ('Transported', 13)]"
      ]
     },
     "execution_count": 6,
     "metadata": {},
     "output_type": "execute_result"
    }
   ],
   "source": [
    "[(c, train.columns.get_loc(c)) for c in train.columns if c in train]"
   ]
  },
  {
   "cell_type": "code",
   "execution_count": 7,
   "id": "aeb20eea",
   "metadata": {
    "execution": {
     "iopub.execute_input": "2023-08-10T00:21:32.268570Z",
     "iopub.status.busy": "2023-08-10T00:21:32.268185Z",
     "iopub.status.idle": "2023-08-10T00:21:32.304993Z",
     "shell.execute_reply": "2023-08-10T00:21:32.303839Z"
    },
    "papermill": {
     "duration": 0.055552,
     "end_time": "2023-08-10T00:21:32.307697",
     "exception": false,
     "start_time": "2023-08-10T00:21:32.252145",
     "status": "completed"
    },
    "tags": []
   },
   "outputs": [
    {
     "data": {
      "text/html": [
       "<div>\n",
       "<style scoped>\n",
       "    .dataframe tbody tr th:only-of-type {\n",
       "        vertical-align: middle;\n",
       "    }\n",
       "\n",
       "    .dataframe tbody tr th {\n",
       "        vertical-align: top;\n",
       "    }\n",
       "\n",
       "    .dataframe thead th {\n",
       "        text-align: right;\n",
       "    }\n",
       "</style>\n",
       "<table border=\"1\" class=\"dataframe\">\n",
       "  <thead>\n",
       "    <tr style=\"text-align: right;\">\n",
       "      <th></th>\n",
       "      <th>Age</th>\n",
       "      <th>RoomService</th>\n",
       "      <th>FoodCourt</th>\n",
       "      <th>ShoppingMall</th>\n",
       "      <th>Spa</th>\n",
       "      <th>VRDeck</th>\n",
       "    </tr>\n",
       "  </thead>\n",
       "  <tbody>\n",
       "    <tr>\n",
       "      <th>count</th>\n",
       "      <td>8514.000000</td>\n",
       "      <td>8512.000000</td>\n",
       "      <td>8510.000000</td>\n",
       "      <td>8485.000000</td>\n",
       "      <td>8510.000000</td>\n",
       "      <td>8505.000000</td>\n",
       "    </tr>\n",
       "    <tr>\n",
       "      <th>mean</th>\n",
       "      <td>28.827930</td>\n",
       "      <td>224.687617</td>\n",
       "      <td>458.077203</td>\n",
       "      <td>173.729169</td>\n",
       "      <td>311.138778</td>\n",
       "      <td>304.854791</td>\n",
       "    </tr>\n",
       "    <tr>\n",
       "      <th>std</th>\n",
       "      <td>14.489021</td>\n",
       "      <td>666.717663</td>\n",
       "      <td>1611.489240</td>\n",
       "      <td>604.696458</td>\n",
       "      <td>1136.705535</td>\n",
       "      <td>1145.717189</td>\n",
       "    </tr>\n",
       "    <tr>\n",
       "      <th>min</th>\n",
       "      <td>0.000000</td>\n",
       "      <td>0.000000</td>\n",
       "      <td>0.000000</td>\n",
       "      <td>0.000000</td>\n",
       "      <td>0.000000</td>\n",
       "      <td>0.000000</td>\n",
       "    </tr>\n",
       "    <tr>\n",
       "      <th>25%</th>\n",
       "      <td>19.000000</td>\n",
       "      <td>0.000000</td>\n",
       "      <td>0.000000</td>\n",
       "      <td>0.000000</td>\n",
       "      <td>0.000000</td>\n",
       "      <td>0.000000</td>\n",
       "    </tr>\n",
       "    <tr>\n",
       "      <th>50%</th>\n",
       "      <td>27.000000</td>\n",
       "      <td>0.000000</td>\n",
       "      <td>0.000000</td>\n",
       "      <td>0.000000</td>\n",
       "      <td>0.000000</td>\n",
       "      <td>0.000000</td>\n",
       "    </tr>\n",
       "    <tr>\n",
       "      <th>75%</th>\n",
       "      <td>38.000000</td>\n",
       "      <td>47.000000</td>\n",
       "      <td>76.000000</td>\n",
       "      <td>27.000000</td>\n",
       "      <td>59.000000</td>\n",
       "      <td>46.000000</td>\n",
       "    </tr>\n",
       "    <tr>\n",
       "      <th>max</th>\n",
       "      <td>79.000000</td>\n",
       "      <td>14327.000000</td>\n",
       "      <td>29813.000000</td>\n",
       "      <td>23492.000000</td>\n",
       "      <td>22408.000000</td>\n",
       "      <td>24133.000000</td>\n",
       "    </tr>\n",
       "  </tbody>\n",
       "</table>\n",
       "</div>"
      ],
      "text/plain": [
       "               Age   RoomService     FoodCourt  ShoppingMall           Spa  \\\n",
       "count  8514.000000   8512.000000   8510.000000   8485.000000   8510.000000   \n",
       "mean     28.827930    224.687617    458.077203    173.729169    311.138778   \n",
       "std      14.489021    666.717663   1611.489240    604.696458   1136.705535   \n",
       "min       0.000000      0.000000      0.000000      0.000000      0.000000   \n",
       "25%      19.000000      0.000000      0.000000      0.000000      0.000000   \n",
       "50%      27.000000      0.000000      0.000000      0.000000      0.000000   \n",
       "75%      38.000000     47.000000     76.000000     27.000000     59.000000   \n",
       "max      79.000000  14327.000000  29813.000000  23492.000000  22408.000000   \n",
       "\n",
       "             VRDeck  \n",
       "count   8505.000000  \n",
       "mean     304.854791  \n",
       "std     1145.717189  \n",
       "min        0.000000  \n",
       "25%        0.000000  \n",
       "50%        0.000000  \n",
       "75%       46.000000  \n",
       "max    24133.000000  "
      ]
     },
     "execution_count": 7,
     "metadata": {},
     "output_type": "execute_result"
    }
   ],
   "source": [
    "train.describe()"
   ]
  },
  {
   "cell_type": "code",
   "execution_count": 8,
   "id": "67677d59",
   "metadata": {
    "execution": {
     "iopub.execute_input": "2023-08-10T00:21:32.338605Z",
     "iopub.status.busy": "2023-08-10T00:21:32.338178Z",
     "iopub.status.idle": "2023-08-10T00:21:32.353272Z",
     "shell.execute_reply": "2023-08-10T00:21:32.351985Z"
    },
    "papermill": {
     "duration": 0.033608,
     "end_time": "2023-08-10T00:21:32.355909",
     "exception": false,
     "start_time": "2023-08-10T00:21:32.322301",
     "status": "completed"
    },
    "tags": []
   },
   "outputs": [
    {
     "data": {
      "text/plain": [
       "TRAPPIST-1e      5915\n",
       "55 Cancri e      1800\n",
       "PSO J318.5-22     796\n",
       "Name: Destination, dtype: int64"
      ]
     },
     "execution_count": 8,
     "metadata": {},
     "output_type": "execute_result"
    }
   ],
   "source": [
    "train[\"Destination\"].value_counts()"
   ]
  },
  {
   "cell_type": "code",
   "execution_count": 9,
   "id": "a0aea656",
   "metadata": {
    "execution": {
     "iopub.execute_input": "2023-08-10T00:21:32.387507Z",
     "iopub.status.busy": "2023-08-10T00:21:32.387142Z",
     "iopub.status.idle": "2023-08-10T00:21:32.405310Z",
     "shell.execute_reply": "2023-08-10T00:21:32.404123Z"
    },
    "papermill": {
     "duration": 0.036567,
     "end_time": "2023-08-10T00:21:32.407429",
     "exception": false,
     "start_time": "2023-08-10T00:21:32.370862",
     "status": "completed"
    },
    "tags": []
   },
   "outputs": [
    {
     "data": {
      "text/plain": [
       "PassengerId       0\n",
       "HomePlanet      201\n",
       "CryoSleep       217\n",
       "Cabin           199\n",
       "Destination     182\n",
       "Age             179\n",
       "VIP             203\n",
       "RoomService     181\n",
       "FoodCourt       183\n",
       "ShoppingMall    208\n",
       "Spa             183\n",
       "VRDeck          188\n",
       "Name            200\n",
       "Transported       0\n",
       "dtype: int64"
      ]
     },
     "execution_count": 9,
     "metadata": {},
     "output_type": "execute_result"
    }
   ],
   "source": [
    "nan_counts = train.isna().sum()\n",
    "nan_counts"
   ]
  },
  {
   "cell_type": "code",
   "execution_count": 10,
   "id": "de1f1baa",
   "metadata": {
    "execution": {
     "iopub.execute_input": "2023-08-10T00:21:32.439839Z",
     "iopub.status.busy": "2023-08-10T00:21:32.439457Z",
     "iopub.status.idle": "2023-08-10T00:21:32.447997Z",
     "shell.execute_reply": "2023-08-10T00:21:32.447002Z"
    },
    "papermill": {
     "duration": 0.028068,
     "end_time": "2023-08-10T00:21:32.450186",
     "exception": false,
     "start_time": "2023-08-10T00:21:32.422118",
     "status": "completed"
    },
    "tags": []
   },
   "outputs": [
    {
     "data": {
      "text/plain": [
       "TRAPPIST-1e      5915\n",
       "55 Cancri e      1800\n",
       "PSO J318.5-22     796\n",
       "Name: Destination, dtype: int64"
      ]
     },
     "execution_count": 10,
     "metadata": {},
     "output_type": "execute_result"
    }
   ],
   "source": [
    "train[\"Destination\"].value_counts()"
   ]
  },
  {
   "cell_type": "markdown",
   "id": "a6b728f0",
   "metadata": {
    "papermill": {
     "duration": 0.014508,
     "end_time": "2023-08-10T00:21:32.479363",
     "exception": false,
     "start_time": "2023-08-10T00:21:32.464855",
     "status": "completed"
    },
    "tags": []
   },
   "source": [
    "Separate out deck, room number and side (Port or Starboard) for each Cabin, creating new attributes"
   ]
  },
  {
   "cell_type": "code",
   "execution_count": 11,
   "id": "6e130ec1",
   "metadata": {
    "execution": {
     "iopub.execute_input": "2023-08-10T00:21:32.518835Z",
     "iopub.status.busy": "2023-08-10T00:21:32.517883Z",
     "iopub.status.idle": "2023-08-10T00:21:32.527747Z",
     "shell.execute_reply": "2023-08-10T00:21:32.526691Z"
    },
    "papermill": {
     "duration": 0.034015,
     "end_time": "2023-08-10T00:21:32.532692",
     "exception": false,
     "start_time": "2023-08-10T00:21:32.498677",
     "status": "completed"
    },
    "tags": []
   },
   "outputs": [
    {
     "data": {
      "text/plain": [
       "199"
      ]
     },
     "execution_count": 11,
     "metadata": {},
     "output_type": "execute_result"
    }
   ],
   "source": [
    "cabins = train[\"Cabin\"]\n",
    "cabins.isna().sum()"
   ]
  },
  {
   "cell_type": "code",
   "execution_count": 12,
   "id": "6bb9e2e5",
   "metadata": {
    "execution": {
     "iopub.execute_input": "2023-08-10T00:21:32.566812Z",
     "iopub.status.busy": "2023-08-10T00:21:32.565528Z",
     "iopub.status.idle": "2023-08-10T00:21:32.574867Z",
     "shell.execute_reply": "2023-08-10T00:21:32.573675Z"
    },
    "papermill": {
     "duration": 0.029375,
     "end_time": "2023-08-10T00:21:32.577171",
     "exception": false,
     "start_time": "2023-08-10T00:21:32.547796",
     "status": "completed"
    },
    "tags": []
   },
   "outputs": [
    {
     "data": {
      "text/plain": [
       "Index(['PassengerId', 'HomePlanet', 'CryoSleep', 'Cabin', 'Destination', 'Age',\n",
       "       'VIP', 'RoomService', 'FoodCourt', 'ShoppingMall', 'Spa', 'VRDeck',\n",
       "       'Name', 'Transported'],\n",
       "      dtype='object')"
      ]
     },
     "execution_count": 12,
     "metadata": {},
     "output_type": "execute_result"
    }
   ],
   "source": [
    "train.columns"
   ]
  },
  {
   "cell_type": "code",
   "execution_count": 13,
   "id": "62d36f39",
   "metadata": {
    "execution": {
     "iopub.execute_input": "2023-08-10T00:21:32.608632Z",
     "iopub.status.busy": "2023-08-10T00:21:32.608273Z",
     "iopub.status.idle": "2023-08-10T00:21:33.774576Z",
     "shell.execute_reply": "2023-08-10T00:21:33.773574Z"
    },
    "papermill": {
     "duration": 1.185057,
     "end_time": "2023-08-10T00:21:33.777150",
     "exception": false,
     "start_time": "2023-08-10T00:21:32.592093",
     "status": "completed"
    },
    "tags": []
   },
   "outputs": [
    {
     "name": "stderr",
     "output_type": "stream",
     "text": [
      "/opt/conda/lib/python3.10/site-packages/scipy/__init__.py:146: UserWarning: A NumPy version >=1.16.5 and <1.23.0 is required for this version of SciPy (detected version 1.23.5\n",
      "  warnings.warn(f\"A NumPy version >={np_minversion} and <{np_maxversion}\"\n"
     ]
    }
   ],
   "source": [
    "from sklearn import set_config\n",
    "set_config(transform_output=\"pandas\")"
   ]
  },
  {
   "cell_type": "code",
   "execution_count": 14,
   "id": "39aea703",
   "metadata": {
    "execution": {
     "iopub.execute_input": "2023-08-10T00:21:33.811660Z",
     "iopub.status.busy": "2023-08-10T00:21:33.811233Z",
     "iopub.status.idle": "2023-08-10T00:21:33.817538Z",
     "shell.execute_reply": "2023-08-10T00:21:33.816305Z"
    },
    "papermill": {
     "duration": 0.025312,
     "end_time": "2023-08-10T00:21:33.819782",
     "exception": false,
     "start_time": "2023-08-10T00:21:33.794470",
     "status": "completed"
    },
    "tags": []
   },
   "outputs": [],
   "source": [
    "# Custom transformer to drop columns\n",
    "class DropperTransformer():\n",
    "    def __init__(self,columns):\n",
    "        self.columns=columns\n",
    "\n",
    "    def transform(self,X,y=None):\n",
    "        return X.drop(self.columns,axis=1)\n",
    "\n",
    "    def fit(self, X, y=None):\n",
    "        return self "
   ]
  },
  {
   "cell_type": "code",
   "execution_count": 15,
   "id": "cce24770",
   "metadata": {
    "execution": {
     "iopub.execute_input": "2023-08-10T00:21:33.852104Z",
     "iopub.status.busy": "2023-08-10T00:21:33.850781Z",
     "iopub.status.idle": "2023-08-10T00:21:33.858454Z",
     "shell.execute_reply": "2023-08-10T00:21:33.857637Z"
    },
    "papermill": {
     "duration": 0.026099,
     "end_time": "2023-08-10T00:21:33.860749",
     "exception": false,
     "start_time": "2023-08-10T00:21:33.834650",
     "status": "completed"
    },
    "tags": []
   },
   "outputs": [],
   "source": [
    "# Create a custom transformer to parse out deck, room_number and side\n",
    "from sklearn.base import BaseEstimator, TransformerMixin\n",
    "\n",
    "class DeckTransformer(BaseEstimator, TransformerMixin):\n",
    "    def __init__(self, segment_cabin_feature=True):\n",
    "        self.segment_cabin_feature = segment_cabin_feature\n",
    "        \n",
    "    def fit(self, X, y=None):\n",
    "         return self\n",
    "        \n",
    "    def transform(self, X):\n",
    "        temp = X[\"Cabin\"].str.split(\"/\", expand=True)\n",
    "        X[\"Deck\"] = temp[0]\n",
    "        X[\"CabinNumber\"] = temp[1]\n",
    "        X[\"Side\"] = temp[2]\n",
    "        return X"
   ]
  },
  {
   "cell_type": "code",
   "execution_count": 16,
   "id": "349e40e9",
   "metadata": {
    "execution": {
     "iopub.execute_input": "2023-08-10T00:21:33.892396Z",
     "iopub.status.busy": "2023-08-10T00:21:33.891609Z",
     "iopub.status.idle": "2023-08-10T00:21:33.898186Z",
     "shell.execute_reply": "2023-08-10T00:21:33.897254Z"
    },
    "papermill": {
     "duration": 0.025099,
     "end_time": "2023-08-10T00:21:33.900614",
     "exception": false,
     "start_time": "2023-08-10T00:21:33.875515",
     "status": "completed"
    },
    "tags": []
   },
   "outputs": [],
   "source": [
    "# Custom transformer to add up luxury spending\n",
    "class LuxuryTransformer(BaseEstimator, TransformerMixin):\n",
    "    def __init__(self):\n",
    "        pass\n",
    "        \n",
    "    def fit(self, X, y=None):\n",
    "         return self\n",
    "        \n",
    "    def transform(self, X):\n",
    "        X[\"Spending\"] = X[\"RoomService\"] + X[\"FoodCourt\"] + X[\"ShoppingMall\"] + X[\"Spa\"] + X[\"VRDeck\"]\n",
    "        return X"
   ]
  },
  {
   "cell_type": "code",
   "execution_count": 17,
   "id": "d8b03c61",
   "metadata": {
    "execution": {
     "iopub.execute_input": "2023-08-10T00:21:33.931955Z",
     "iopub.status.busy": "2023-08-10T00:21:33.931538Z",
     "iopub.status.idle": "2023-08-10T00:21:33.938026Z",
     "shell.execute_reply": "2023-08-10T00:21:33.936767Z"
    },
    "papermill": {
     "duration": 0.024836,
     "end_time": "2023-08-10T00:21:33.940284",
     "exception": false,
     "start_time": "2023-08-10T00:21:33.915448",
     "status": "completed"
    },
    "tags": []
   },
   "outputs": [],
   "source": [
    "# Custom transformer to convert boolean columns to 0 or 1?\n",
    "class BoolToIntTransformer(BaseEstimator, TransformerMixin):\n",
    "    def __init__(self):\n",
    "        pass\n",
    "    \n",
    "    def fit(self, X, y=None):\n",
    "         return self\n",
    "        \n",
    "    def transform(self, X):\n",
    "        X[\"VIP\"] = X[\"VIP\"].replace({True: 1, False: 0})\n",
    "        X[\"CryoSleep\"] = X[\"CryoSleep\"].replace({True: 1, False: 0})\n",
    "        return X"
   ]
  },
  {
   "cell_type": "markdown",
   "id": "0643a6d1",
   "metadata": {
    "papermill": {
     "duration": 0.014581,
     "end_time": "2023-08-10T00:21:33.970191",
     "exception": false,
     "start_time": "2023-08-10T00:21:33.955610",
     "status": "completed"
    },
    "tags": []
   },
   "source": [
    "One-hot encoding for the following columns: HomePlanet, Destination, Side\n",
    "\n",
    "Spending = RoomService + FoodCourt + ShoppingMall + Spa + VRDeck\n",
    "Drop these columns, keep Spending\n",
    "\n",
    "Drop Name\n",
    "\n",
    "Separate out Passenger_Id parts into FamilyID and IndividualID\n"
   ]
  },
  {
   "cell_type": "markdown",
   "id": "adebc980",
   "metadata": {
    "papermill": {
     "duration": 0.014399,
     "end_time": "2023-08-10T00:21:33.999537",
     "exception": false,
     "start_time": "2023-08-10T00:21:33.985138",
     "status": "completed"
    },
    "tags": []
   },
   "source": [
    "Manually One-Hot encode columns due to deck transformer"
   ]
  },
  {
   "cell_type": "code",
   "execution_count": 18,
   "id": "57f852fb",
   "metadata": {
    "execution": {
     "iopub.execute_input": "2023-08-10T00:21:34.031388Z",
     "iopub.status.busy": "2023-08-10T00:21:34.031004Z",
     "iopub.status.idle": "2023-08-10T00:21:34.062626Z",
     "shell.execute_reply": "2023-08-10T00:21:34.061486Z"
    },
    "papermill": {
     "duration": 0.050524,
     "end_time": "2023-08-10T00:21:34.065323",
     "exception": false,
     "start_time": "2023-08-10T00:21:34.014799",
     "status": "completed"
    },
    "tags": []
   },
   "outputs": [],
   "source": [
    "deck_transformer = DeckTransformer(True)\n",
    "train = deck_transformer.fit_transform(train)\n",
    "submit = deck_transformer.fit_transform(submit)"
   ]
  },
  {
   "cell_type": "code",
   "execution_count": 19,
   "id": "e93a0079",
   "metadata": {
    "execution": {
     "iopub.execute_input": "2023-08-10T00:21:34.097331Z",
     "iopub.status.busy": "2023-08-10T00:21:34.096871Z",
     "iopub.status.idle": "2023-08-10T00:21:34.136693Z",
     "shell.execute_reply": "2023-08-10T00:21:34.135618Z"
    },
    "papermill": {
     "duration": 0.058881,
     "end_time": "2023-08-10T00:21:34.139238",
     "exception": false,
     "start_time": "2023-08-10T00:21:34.080357",
     "status": "completed"
    },
    "tags": []
   },
   "outputs": [],
   "source": [
    "# Get columns that need to be encoded\n",
    "cols = [\"HomePlanet\", \"Destination\", \"Deck\", \"Side\"]\n",
    "\n",
    "train = pd.get_dummies(data=train,columns=cols,dtype=\"float\")\n",
    "submit = pd.get_dummies(data=submit,columns=cols,dtype=\"float\")"
   ]
  },
  {
   "cell_type": "code",
   "execution_count": 20,
   "id": "39d0510f",
   "metadata": {
    "execution": {
     "iopub.execute_input": "2023-08-10T00:21:34.171629Z",
     "iopub.status.busy": "2023-08-10T00:21:34.171252Z",
     "iopub.status.idle": "2023-08-10T00:21:34.661717Z",
     "shell.execute_reply": "2023-08-10T00:21:34.660541Z"
    },
    "papermill": {
     "duration": 0.509547,
     "end_time": "2023-08-10T00:21:34.664002",
     "exception": false,
     "start_time": "2023-08-10T00:21:34.154455",
     "status": "completed"
    },
    "tags": []
   },
   "outputs": [
    {
     "data": {
      "text/html": [
       "<div>\n",
       "<style scoped>\n",
       "    .dataframe tbody tr th:only-of-type {\n",
       "        vertical-align: middle;\n",
       "    }\n",
       "\n",
       "    .dataframe tbody tr th {\n",
       "        vertical-align: top;\n",
       "    }\n",
       "\n",
       "    .dataframe thead th {\n",
       "        text-align: right;\n",
       "    }\n",
       "</style>\n",
       "<table border=\"1\" class=\"dataframe\">\n",
       "  <thead>\n",
       "    <tr style=\"text-align: right;\">\n",
       "      <th></th>\n",
       "      <th>num__Age</th>\n",
       "      <th>num__RoomService</th>\n",
       "      <th>num__FoodCourt</th>\n",
       "      <th>num__ShoppingMall</th>\n",
       "      <th>num__Spa</th>\n",
       "      <th>num__VRDeck</th>\n",
       "      <th>num__Spending</th>\n",
       "      <th>bool__VIP</th>\n",
       "      <th>bool__CryoSleep</th>\n",
       "      <th>remainder__PassengerId</th>\n",
       "      <th>...</th>\n",
       "      <th>remainder__Deck_A</th>\n",
       "      <th>remainder__Deck_B</th>\n",
       "      <th>remainder__Deck_C</th>\n",
       "      <th>remainder__Deck_D</th>\n",
       "      <th>remainder__Deck_E</th>\n",
       "      <th>remainder__Deck_F</th>\n",
       "      <th>remainder__Deck_G</th>\n",
       "      <th>remainder__Deck_T</th>\n",
       "      <th>remainder__Side_P</th>\n",
       "      <th>remainder__Side_S</th>\n",
       "    </tr>\n",
       "  </thead>\n",
       "  <tbody>\n",
       "    <tr>\n",
       "      <th>0</th>\n",
       "      <td>39.0</td>\n",
       "      <td>0.0</td>\n",
       "      <td>0.0</td>\n",
       "      <td>0.0</td>\n",
       "      <td>0.0</td>\n",
       "      <td>0.0</td>\n",
       "      <td>0.0</td>\n",
       "      <td>0.0</td>\n",
       "      <td>0.0</td>\n",
       "      <td>0001_01</td>\n",
       "      <td>...</td>\n",
       "      <td>0.0</td>\n",
       "      <td>1.0</td>\n",
       "      <td>0.0</td>\n",
       "      <td>0.0</td>\n",
       "      <td>0.0</td>\n",
       "      <td>0.0</td>\n",
       "      <td>0.0</td>\n",
       "      <td>0.0</td>\n",
       "      <td>1.0</td>\n",
       "      <td>0.0</td>\n",
       "    </tr>\n",
       "    <tr>\n",
       "      <th>1</th>\n",
       "      <td>24.0</td>\n",
       "      <td>109.0</td>\n",
       "      <td>9.0</td>\n",
       "      <td>25.0</td>\n",
       "      <td>549.0</td>\n",
       "      <td>44.0</td>\n",
       "      <td>736.0</td>\n",
       "      <td>0.0</td>\n",
       "      <td>0.0</td>\n",
       "      <td>0002_01</td>\n",
       "      <td>...</td>\n",
       "      <td>0.0</td>\n",
       "      <td>0.0</td>\n",
       "      <td>0.0</td>\n",
       "      <td>0.0</td>\n",
       "      <td>0.0</td>\n",
       "      <td>1.0</td>\n",
       "      <td>0.0</td>\n",
       "      <td>0.0</td>\n",
       "      <td>0.0</td>\n",
       "      <td>1.0</td>\n",
       "    </tr>\n",
       "    <tr>\n",
       "      <th>2</th>\n",
       "      <td>58.0</td>\n",
       "      <td>43.0</td>\n",
       "      <td>3576.0</td>\n",
       "      <td>0.0</td>\n",
       "      <td>6715.0</td>\n",
       "      <td>49.0</td>\n",
       "      <td>10383.0</td>\n",
       "      <td>1.0</td>\n",
       "      <td>0.0</td>\n",
       "      <td>0003_01</td>\n",
       "      <td>...</td>\n",
       "      <td>1.0</td>\n",
       "      <td>0.0</td>\n",
       "      <td>0.0</td>\n",
       "      <td>0.0</td>\n",
       "      <td>0.0</td>\n",
       "      <td>0.0</td>\n",
       "      <td>0.0</td>\n",
       "      <td>0.0</td>\n",
       "      <td>0.0</td>\n",
       "      <td>1.0</td>\n",
       "    </tr>\n",
       "    <tr>\n",
       "      <th>3</th>\n",
       "      <td>33.0</td>\n",
       "      <td>0.0</td>\n",
       "      <td>1283.0</td>\n",
       "      <td>371.0</td>\n",
       "      <td>3329.0</td>\n",
       "      <td>193.0</td>\n",
       "      <td>5176.0</td>\n",
       "      <td>0.0</td>\n",
       "      <td>0.0</td>\n",
       "      <td>0003_02</td>\n",
       "      <td>...</td>\n",
       "      <td>1.0</td>\n",
       "      <td>0.0</td>\n",
       "      <td>0.0</td>\n",
       "      <td>0.0</td>\n",
       "      <td>0.0</td>\n",
       "      <td>0.0</td>\n",
       "      <td>0.0</td>\n",
       "      <td>0.0</td>\n",
       "      <td>0.0</td>\n",
       "      <td>1.0</td>\n",
       "    </tr>\n",
       "    <tr>\n",
       "      <th>4</th>\n",
       "      <td>16.0</td>\n",
       "      <td>303.0</td>\n",
       "      <td>70.0</td>\n",
       "      <td>151.0</td>\n",
       "      <td>565.0</td>\n",
       "      <td>2.0</td>\n",
       "      <td>1091.0</td>\n",
       "      <td>0.0</td>\n",
       "      <td>0.0</td>\n",
       "      <td>0004_01</td>\n",
       "      <td>...</td>\n",
       "      <td>0.0</td>\n",
       "      <td>0.0</td>\n",
       "      <td>0.0</td>\n",
       "      <td>0.0</td>\n",
       "      <td>0.0</td>\n",
       "      <td>1.0</td>\n",
       "      <td>0.0</td>\n",
       "      <td>0.0</td>\n",
       "      <td>0.0</td>\n",
       "      <td>1.0</td>\n",
       "    </tr>\n",
       "    <tr>\n",
       "      <th>...</th>\n",
       "      <td>...</td>\n",
       "      <td>...</td>\n",
       "      <td>...</td>\n",
       "      <td>...</td>\n",
       "      <td>...</td>\n",
       "      <td>...</td>\n",
       "      <td>...</td>\n",
       "      <td>...</td>\n",
       "      <td>...</td>\n",
       "      <td>...</td>\n",
       "      <td>...</td>\n",
       "      <td>...</td>\n",
       "      <td>...</td>\n",
       "      <td>...</td>\n",
       "      <td>...</td>\n",
       "      <td>...</td>\n",
       "      <td>...</td>\n",
       "      <td>...</td>\n",
       "      <td>...</td>\n",
       "      <td>...</td>\n",
       "      <td>...</td>\n",
       "    </tr>\n",
       "    <tr>\n",
       "      <th>8688</th>\n",
       "      <td>41.0</td>\n",
       "      <td>0.0</td>\n",
       "      <td>6819.0</td>\n",
       "      <td>0.0</td>\n",
       "      <td>1643.0</td>\n",
       "      <td>74.0</td>\n",
       "      <td>8536.0</td>\n",
       "      <td>1.0</td>\n",
       "      <td>0.0</td>\n",
       "      <td>9276_01</td>\n",
       "      <td>...</td>\n",
       "      <td>1.0</td>\n",
       "      <td>0.0</td>\n",
       "      <td>0.0</td>\n",
       "      <td>0.0</td>\n",
       "      <td>0.0</td>\n",
       "      <td>0.0</td>\n",
       "      <td>0.0</td>\n",
       "      <td>0.0</td>\n",
       "      <td>1.0</td>\n",
       "      <td>0.0</td>\n",
       "    </tr>\n",
       "    <tr>\n",
       "      <th>8689</th>\n",
       "      <td>18.0</td>\n",
       "      <td>0.0</td>\n",
       "      <td>0.0</td>\n",
       "      <td>0.0</td>\n",
       "      <td>0.0</td>\n",
       "      <td>0.0</td>\n",
       "      <td>0.0</td>\n",
       "      <td>0.0</td>\n",
       "      <td>1.0</td>\n",
       "      <td>9278_01</td>\n",
       "      <td>...</td>\n",
       "      <td>0.0</td>\n",
       "      <td>0.0</td>\n",
       "      <td>0.0</td>\n",
       "      <td>0.0</td>\n",
       "      <td>0.0</td>\n",
       "      <td>0.0</td>\n",
       "      <td>1.0</td>\n",
       "      <td>0.0</td>\n",
       "      <td>0.0</td>\n",
       "      <td>1.0</td>\n",
       "    </tr>\n",
       "    <tr>\n",
       "      <th>8690</th>\n",
       "      <td>26.0</td>\n",
       "      <td>0.0</td>\n",
       "      <td>0.0</td>\n",
       "      <td>1872.0</td>\n",
       "      <td>1.0</td>\n",
       "      <td>0.0</td>\n",
       "      <td>1873.0</td>\n",
       "      <td>0.0</td>\n",
       "      <td>0.0</td>\n",
       "      <td>9279_01</td>\n",
       "      <td>...</td>\n",
       "      <td>0.0</td>\n",
       "      <td>0.0</td>\n",
       "      <td>0.0</td>\n",
       "      <td>0.0</td>\n",
       "      <td>0.0</td>\n",
       "      <td>0.0</td>\n",
       "      <td>1.0</td>\n",
       "      <td>0.0</td>\n",
       "      <td>0.0</td>\n",
       "      <td>1.0</td>\n",
       "    </tr>\n",
       "    <tr>\n",
       "      <th>8691</th>\n",
       "      <td>32.0</td>\n",
       "      <td>0.0</td>\n",
       "      <td>1049.0</td>\n",
       "      <td>0.0</td>\n",
       "      <td>353.0</td>\n",
       "      <td>3235.0</td>\n",
       "      <td>4637.0</td>\n",
       "      <td>0.0</td>\n",
       "      <td>0.0</td>\n",
       "      <td>9280_01</td>\n",
       "      <td>...</td>\n",
       "      <td>0.0</td>\n",
       "      <td>0.0</td>\n",
       "      <td>0.0</td>\n",
       "      <td>0.0</td>\n",
       "      <td>1.0</td>\n",
       "      <td>0.0</td>\n",
       "      <td>0.0</td>\n",
       "      <td>0.0</td>\n",
       "      <td>0.0</td>\n",
       "      <td>1.0</td>\n",
       "    </tr>\n",
       "    <tr>\n",
       "      <th>8692</th>\n",
       "      <td>44.0</td>\n",
       "      <td>126.0</td>\n",
       "      <td>4688.0</td>\n",
       "      <td>0.0</td>\n",
       "      <td>0.0</td>\n",
       "      <td>12.0</td>\n",
       "      <td>4826.0</td>\n",
       "      <td>0.0</td>\n",
       "      <td>0.0</td>\n",
       "      <td>9280_02</td>\n",
       "      <td>...</td>\n",
       "      <td>0.0</td>\n",
       "      <td>0.0</td>\n",
       "      <td>0.0</td>\n",
       "      <td>0.0</td>\n",
       "      <td>1.0</td>\n",
       "      <td>0.0</td>\n",
       "      <td>0.0</td>\n",
       "      <td>0.0</td>\n",
       "      <td>0.0</td>\n",
       "      <td>1.0</td>\n",
       "    </tr>\n",
       "  </tbody>\n",
       "</table>\n",
       "<p>8693 rows × 30 columns</p>\n",
       "</div>"
      ],
      "text/plain": [
       "      num__Age  num__RoomService  num__FoodCourt  num__ShoppingMall  num__Spa  \\\n",
       "0         39.0               0.0             0.0                0.0       0.0   \n",
       "1         24.0             109.0             9.0               25.0     549.0   \n",
       "2         58.0              43.0          3576.0                0.0    6715.0   \n",
       "3         33.0               0.0          1283.0              371.0    3329.0   \n",
       "4         16.0             303.0            70.0              151.0     565.0   \n",
       "...        ...               ...             ...                ...       ...   \n",
       "8688      41.0               0.0          6819.0                0.0    1643.0   \n",
       "8689      18.0               0.0             0.0                0.0       0.0   \n",
       "8690      26.0               0.0             0.0             1872.0       1.0   \n",
       "8691      32.0               0.0          1049.0                0.0     353.0   \n",
       "8692      44.0             126.0          4688.0                0.0       0.0   \n",
       "\n",
       "      num__VRDeck  num__Spending  bool__VIP  bool__CryoSleep  \\\n",
       "0             0.0            0.0        0.0              0.0   \n",
       "1            44.0          736.0        0.0              0.0   \n",
       "2            49.0        10383.0        1.0              0.0   \n",
       "3           193.0         5176.0        0.0              0.0   \n",
       "4             2.0         1091.0        0.0              0.0   \n",
       "...           ...            ...        ...              ...   \n",
       "8688         74.0         8536.0        1.0              0.0   \n",
       "8689          0.0            0.0        0.0              1.0   \n",
       "8690          0.0         1873.0        0.0              0.0   \n",
       "8691       3235.0         4637.0        0.0              0.0   \n",
       "8692         12.0         4826.0        0.0              0.0   \n",
       "\n",
       "     remainder__PassengerId  ... remainder__Deck_A remainder__Deck_B  \\\n",
       "0                   0001_01  ...               0.0               1.0   \n",
       "1                   0002_01  ...               0.0               0.0   \n",
       "2                   0003_01  ...               1.0               0.0   \n",
       "3                   0003_02  ...               1.0               0.0   \n",
       "4                   0004_01  ...               0.0               0.0   \n",
       "...                     ...  ...               ...               ...   \n",
       "8688                9276_01  ...               1.0               0.0   \n",
       "8689                9278_01  ...               0.0               0.0   \n",
       "8690                9279_01  ...               0.0               0.0   \n",
       "8691                9280_01  ...               0.0               0.0   \n",
       "8692                9280_02  ...               0.0               0.0   \n",
       "\n",
       "      remainder__Deck_C remainder__Deck_D  remainder__Deck_E  \\\n",
       "0                   0.0               0.0                0.0   \n",
       "1                   0.0               0.0                0.0   \n",
       "2                   0.0               0.0                0.0   \n",
       "3                   0.0               0.0                0.0   \n",
       "4                   0.0               0.0                0.0   \n",
       "...                 ...               ...                ...   \n",
       "8688                0.0               0.0                0.0   \n",
       "8689                0.0               0.0                0.0   \n",
       "8690                0.0               0.0                0.0   \n",
       "8691                0.0               0.0                1.0   \n",
       "8692                0.0               0.0                1.0   \n",
       "\n",
       "      remainder__Deck_F  remainder__Deck_G  remainder__Deck_T  \\\n",
       "0                   0.0                0.0                0.0   \n",
       "1                   1.0                0.0                0.0   \n",
       "2                   0.0                0.0                0.0   \n",
       "3                   0.0                0.0                0.0   \n",
       "4                   1.0                0.0                0.0   \n",
       "...                 ...                ...                ...   \n",
       "8688                0.0                0.0                0.0   \n",
       "8689                0.0                1.0                0.0   \n",
       "8690                0.0                1.0                0.0   \n",
       "8691                0.0                0.0                0.0   \n",
       "8692                0.0                0.0                0.0   \n",
       "\n",
       "      remainder__Side_P  remainder__Side_S  \n",
       "0                   1.0                0.0  \n",
       "1                   0.0                1.0  \n",
       "2                   0.0                1.0  \n",
       "3                   0.0                1.0  \n",
       "4                   0.0                1.0  \n",
       "...                 ...                ...  \n",
       "8688                1.0                0.0  \n",
       "8689                0.0                1.0  \n",
       "8690                0.0                1.0  \n",
       "8691                0.0                1.0  \n",
       "8692                0.0                1.0  \n",
       "\n",
       "[8693 rows x 30 columns]"
      ]
     },
     "execution_count": 20,
     "metadata": {},
     "output_type": "execute_result"
    }
   ],
   "source": [
    "from sklearn.pipeline import Pipeline\n",
    "from sklearn.impute import SimpleImputer\n",
    "\n",
    "numeric_features = [\"Age\",\"RoomService\",\"FoodCourt\", \"ShoppingMall\", \"Spa\", \"VRDeck\"]\n",
    "cat_features = [\"HomePlanet\", \"Destination\"]\n",
    "deck_features = [\"Side\", \"Deck\"]\n",
    "boolean_features = [\"VIP\", \"CryoSleep\"]\n",
    "\n",
    "numeric_transformer = Pipeline(\n",
    "    steps=[(\"imputer\", SimpleImputer(strategy=\"median\")),\n",
    "           (\"luxury_add\", LuxuryTransformer())\n",
    "])\n",
    "\n",
    "boolean_transformer = Pipeline(\n",
    "    steps=[(\"bool\", BoolToIntTransformer())]\n",
    ")\n",
    "\n",
    "# Declare Column transformer\n",
    "from sklearn.compose import ColumnTransformer\n",
    "\n",
    "full_pipeline = ColumnTransformer([\n",
    "    (\"num\", numeric_transformer, numeric_features),\n",
    "    (\"bool\", boolean_transformer,boolean_features)\n",
    "],remainder=\"passthrough\")\n",
    "\n",
    "train_prepared = full_pipeline.fit_transform(train)\n",
    "submit_prepared = full_pipeline.fit_transform(submit)\n",
    "train_prepared"
   ]
  },
  {
   "cell_type": "code",
   "execution_count": 21,
   "id": "5897370e",
   "metadata": {
    "execution": {
     "iopub.execute_input": "2023-08-10T00:21:34.697081Z",
     "iopub.status.busy": "2023-08-10T00:21:34.695972Z",
     "iopub.status.idle": "2023-08-10T00:21:34.738231Z",
     "shell.execute_reply": "2023-08-10T00:21:34.737111Z"
    },
    "papermill": {
     "duration": 0.061477,
     "end_time": "2023-08-10T00:21:34.740817",
     "exception": false,
     "start_time": "2023-08-10T00:21:34.679340",
     "status": "completed"
    },
    "tags": []
   },
   "outputs": [
    {
     "data": {
      "text/html": [
       "<div>\n",
       "<style scoped>\n",
       "    .dataframe tbody tr th:only-of-type {\n",
       "        vertical-align: middle;\n",
       "    }\n",
       "\n",
       "    .dataframe tbody tr th {\n",
       "        vertical-align: top;\n",
       "    }\n",
       "\n",
       "    .dataframe thead th {\n",
       "        text-align: right;\n",
       "    }\n",
       "</style>\n",
       "<table border=\"1\" class=\"dataframe\">\n",
       "  <thead>\n",
       "    <tr style=\"text-align: right;\">\n",
       "      <th></th>\n",
       "      <th>num__Age</th>\n",
       "      <th>num__RoomService</th>\n",
       "      <th>num__FoodCourt</th>\n",
       "      <th>num__ShoppingMall</th>\n",
       "      <th>num__Spa</th>\n",
       "      <th>num__VRDeck</th>\n",
       "      <th>num__Spending</th>\n",
       "      <th>bool__VIP</th>\n",
       "      <th>bool__CryoSleep</th>\n",
       "      <th>remainder__PassengerId</th>\n",
       "      <th>...</th>\n",
       "      <th>remainder__Deck_A</th>\n",
       "      <th>remainder__Deck_B</th>\n",
       "      <th>remainder__Deck_C</th>\n",
       "      <th>remainder__Deck_D</th>\n",
       "      <th>remainder__Deck_E</th>\n",
       "      <th>remainder__Deck_F</th>\n",
       "      <th>remainder__Deck_G</th>\n",
       "      <th>remainder__Deck_T</th>\n",
       "      <th>remainder__Side_P</th>\n",
       "      <th>remainder__Side_S</th>\n",
       "    </tr>\n",
       "  </thead>\n",
       "  <tbody>\n",
       "    <tr>\n",
       "      <th>0</th>\n",
       "      <td>27.0</td>\n",
       "      <td>0.0</td>\n",
       "      <td>0.0</td>\n",
       "      <td>0.0</td>\n",
       "      <td>0.0</td>\n",
       "      <td>0.0</td>\n",
       "      <td>0.0</td>\n",
       "      <td>0.0</td>\n",
       "      <td>1.0</td>\n",
       "      <td>0013_01</td>\n",
       "      <td>...</td>\n",
       "      <td>0.0</td>\n",
       "      <td>0.0</td>\n",
       "      <td>0.0</td>\n",
       "      <td>0.0</td>\n",
       "      <td>0.0</td>\n",
       "      <td>0.0</td>\n",
       "      <td>1.0</td>\n",
       "      <td>0.0</td>\n",
       "      <td>0.0</td>\n",
       "      <td>1.0</td>\n",
       "    </tr>\n",
       "    <tr>\n",
       "      <th>1</th>\n",
       "      <td>19.0</td>\n",
       "      <td>0.0</td>\n",
       "      <td>9.0</td>\n",
       "      <td>0.0</td>\n",
       "      <td>2823.0</td>\n",
       "      <td>0.0</td>\n",
       "      <td>2832.0</td>\n",
       "      <td>0.0</td>\n",
       "      <td>0.0</td>\n",
       "      <td>0018_01</td>\n",
       "      <td>...</td>\n",
       "      <td>0.0</td>\n",
       "      <td>0.0</td>\n",
       "      <td>0.0</td>\n",
       "      <td>0.0</td>\n",
       "      <td>0.0</td>\n",
       "      <td>1.0</td>\n",
       "      <td>0.0</td>\n",
       "      <td>0.0</td>\n",
       "      <td>0.0</td>\n",
       "      <td>1.0</td>\n",
       "    </tr>\n",
       "    <tr>\n",
       "      <th>2</th>\n",
       "      <td>31.0</td>\n",
       "      <td>0.0</td>\n",
       "      <td>0.0</td>\n",
       "      <td>0.0</td>\n",
       "      <td>0.0</td>\n",
       "      <td>0.0</td>\n",
       "      <td>0.0</td>\n",
       "      <td>0.0</td>\n",
       "      <td>1.0</td>\n",
       "      <td>0019_01</td>\n",
       "      <td>...</td>\n",
       "      <td>0.0</td>\n",
       "      <td>0.0</td>\n",
       "      <td>1.0</td>\n",
       "      <td>0.0</td>\n",
       "      <td>0.0</td>\n",
       "      <td>0.0</td>\n",
       "      <td>0.0</td>\n",
       "      <td>0.0</td>\n",
       "      <td>0.0</td>\n",
       "      <td>1.0</td>\n",
       "    </tr>\n",
       "    <tr>\n",
       "      <th>3</th>\n",
       "      <td>38.0</td>\n",
       "      <td>0.0</td>\n",
       "      <td>6652.0</td>\n",
       "      <td>0.0</td>\n",
       "      <td>181.0</td>\n",
       "      <td>585.0</td>\n",
       "      <td>7418.0</td>\n",
       "      <td>0.0</td>\n",
       "      <td>0.0</td>\n",
       "      <td>0021_01</td>\n",
       "      <td>...</td>\n",
       "      <td>0.0</td>\n",
       "      <td>0.0</td>\n",
       "      <td>1.0</td>\n",
       "      <td>0.0</td>\n",
       "      <td>0.0</td>\n",
       "      <td>0.0</td>\n",
       "      <td>0.0</td>\n",
       "      <td>0.0</td>\n",
       "      <td>0.0</td>\n",
       "      <td>1.0</td>\n",
       "    </tr>\n",
       "    <tr>\n",
       "      <th>4</th>\n",
       "      <td>20.0</td>\n",
       "      <td>10.0</td>\n",
       "      <td>0.0</td>\n",
       "      <td>635.0</td>\n",
       "      <td>0.0</td>\n",
       "      <td>0.0</td>\n",
       "      <td>645.0</td>\n",
       "      <td>0.0</td>\n",
       "      <td>0.0</td>\n",
       "      <td>0023_01</td>\n",
       "      <td>...</td>\n",
       "      <td>0.0</td>\n",
       "      <td>0.0</td>\n",
       "      <td>0.0</td>\n",
       "      <td>0.0</td>\n",
       "      <td>0.0</td>\n",
       "      <td>1.0</td>\n",
       "      <td>0.0</td>\n",
       "      <td>0.0</td>\n",
       "      <td>0.0</td>\n",
       "      <td>1.0</td>\n",
       "    </tr>\n",
       "    <tr>\n",
       "      <th>...</th>\n",
       "      <td>...</td>\n",
       "      <td>...</td>\n",
       "      <td>...</td>\n",
       "      <td>...</td>\n",
       "      <td>...</td>\n",
       "      <td>...</td>\n",
       "      <td>...</td>\n",
       "      <td>...</td>\n",
       "      <td>...</td>\n",
       "      <td>...</td>\n",
       "      <td>...</td>\n",
       "      <td>...</td>\n",
       "      <td>...</td>\n",
       "      <td>...</td>\n",
       "      <td>...</td>\n",
       "      <td>...</td>\n",
       "      <td>...</td>\n",
       "      <td>...</td>\n",
       "      <td>...</td>\n",
       "      <td>...</td>\n",
       "      <td>...</td>\n",
       "    </tr>\n",
       "    <tr>\n",
       "      <th>4272</th>\n",
       "      <td>34.0</td>\n",
       "      <td>0.0</td>\n",
       "      <td>0.0</td>\n",
       "      <td>0.0</td>\n",
       "      <td>0.0</td>\n",
       "      <td>0.0</td>\n",
       "      <td>0.0</td>\n",
       "      <td>0.0</td>\n",
       "      <td>1.0</td>\n",
       "      <td>9266_02</td>\n",
       "      <td>...</td>\n",
       "      <td>0.0</td>\n",
       "      <td>0.0</td>\n",
       "      <td>0.0</td>\n",
       "      <td>0.0</td>\n",
       "      <td>0.0</td>\n",
       "      <td>0.0</td>\n",
       "      <td>1.0</td>\n",
       "      <td>0.0</td>\n",
       "      <td>0.0</td>\n",
       "      <td>1.0</td>\n",
       "    </tr>\n",
       "    <tr>\n",
       "      <th>4273</th>\n",
       "      <td>42.0</td>\n",
       "      <td>0.0</td>\n",
       "      <td>847.0</td>\n",
       "      <td>17.0</td>\n",
       "      <td>10.0</td>\n",
       "      <td>144.0</td>\n",
       "      <td>1018.0</td>\n",
       "      <td>0.0</td>\n",
       "      <td>0.0</td>\n",
       "      <td>9269_01</td>\n",
       "      <td>...</td>\n",
       "      <td>0.0</td>\n",
       "      <td>0.0</td>\n",
       "      <td>0.0</td>\n",
       "      <td>0.0</td>\n",
       "      <td>0.0</td>\n",
       "      <td>0.0</td>\n",
       "      <td>0.0</td>\n",
       "      <td>0.0</td>\n",
       "      <td>0.0</td>\n",
       "      <td>0.0</td>\n",
       "    </tr>\n",
       "    <tr>\n",
       "      <th>4274</th>\n",
       "      <td>26.0</td>\n",
       "      <td>0.0</td>\n",
       "      <td>0.0</td>\n",
       "      <td>0.0</td>\n",
       "      <td>0.0</td>\n",
       "      <td>0.0</td>\n",
       "      <td>0.0</td>\n",
       "      <td>0.0</td>\n",
       "      <td>1.0</td>\n",
       "      <td>9271_01</td>\n",
       "      <td>...</td>\n",
       "      <td>0.0</td>\n",
       "      <td>0.0</td>\n",
       "      <td>0.0</td>\n",
       "      <td>1.0</td>\n",
       "      <td>0.0</td>\n",
       "      <td>0.0</td>\n",
       "      <td>0.0</td>\n",
       "      <td>0.0</td>\n",
       "      <td>1.0</td>\n",
       "      <td>0.0</td>\n",
       "    </tr>\n",
       "    <tr>\n",
       "      <th>4275</th>\n",
       "      <td>26.0</td>\n",
       "      <td>0.0</td>\n",
       "      <td>2680.0</td>\n",
       "      <td>0.0</td>\n",
       "      <td>0.0</td>\n",
       "      <td>523.0</td>\n",
       "      <td>3203.0</td>\n",
       "      <td>0.0</td>\n",
       "      <td>0.0</td>\n",
       "      <td>9273_01</td>\n",
       "      <td>...</td>\n",
       "      <td>0.0</td>\n",
       "      <td>0.0</td>\n",
       "      <td>0.0</td>\n",
       "      <td>1.0</td>\n",
       "      <td>0.0</td>\n",
       "      <td>0.0</td>\n",
       "      <td>0.0</td>\n",
       "      <td>0.0</td>\n",
       "      <td>1.0</td>\n",
       "      <td>0.0</td>\n",
       "    </tr>\n",
       "    <tr>\n",
       "      <th>4276</th>\n",
       "      <td>43.0</td>\n",
       "      <td>0.0</td>\n",
       "      <td>0.0</td>\n",
       "      <td>0.0</td>\n",
       "      <td>0.0</td>\n",
       "      <td>0.0</td>\n",
       "      <td>0.0</td>\n",
       "      <td>0.0</td>\n",
       "      <td>1.0</td>\n",
       "      <td>9277_01</td>\n",
       "      <td>...</td>\n",
       "      <td>0.0</td>\n",
       "      <td>0.0</td>\n",
       "      <td>0.0</td>\n",
       "      <td>0.0</td>\n",
       "      <td>0.0</td>\n",
       "      <td>0.0</td>\n",
       "      <td>1.0</td>\n",
       "      <td>0.0</td>\n",
       "      <td>0.0</td>\n",
       "      <td>1.0</td>\n",
       "    </tr>\n",
       "  </tbody>\n",
       "</table>\n",
       "<p>4277 rows × 29 columns</p>\n",
       "</div>"
      ],
      "text/plain": [
       "      num__Age  num__RoomService  num__FoodCourt  num__ShoppingMall  num__Spa  \\\n",
       "0         27.0               0.0             0.0                0.0       0.0   \n",
       "1         19.0               0.0             9.0                0.0    2823.0   \n",
       "2         31.0               0.0             0.0                0.0       0.0   \n",
       "3         38.0               0.0          6652.0                0.0     181.0   \n",
       "4         20.0              10.0             0.0              635.0       0.0   \n",
       "...        ...               ...             ...                ...       ...   \n",
       "4272      34.0               0.0             0.0                0.0       0.0   \n",
       "4273      42.0               0.0           847.0               17.0      10.0   \n",
       "4274      26.0               0.0             0.0                0.0       0.0   \n",
       "4275      26.0               0.0          2680.0                0.0       0.0   \n",
       "4276      43.0               0.0             0.0                0.0       0.0   \n",
       "\n",
       "      num__VRDeck  num__Spending  bool__VIP  bool__CryoSleep  \\\n",
       "0             0.0            0.0        0.0              1.0   \n",
       "1             0.0         2832.0        0.0              0.0   \n",
       "2             0.0            0.0        0.0              1.0   \n",
       "3           585.0         7418.0        0.0              0.0   \n",
       "4             0.0          645.0        0.0              0.0   \n",
       "...           ...            ...        ...              ...   \n",
       "4272          0.0            0.0        0.0              1.0   \n",
       "4273        144.0         1018.0        0.0              0.0   \n",
       "4274          0.0            0.0        0.0              1.0   \n",
       "4275        523.0         3203.0        0.0              0.0   \n",
       "4276          0.0            0.0        0.0              1.0   \n",
       "\n",
       "     remainder__PassengerId  ... remainder__Deck_A remainder__Deck_B  \\\n",
       "0                   0013_01  ...               0.0               0.0   \n",
       "1                   0018_01  ...               0.0               0.0   \n",
       "2                   0019_01  ...               0.0               0.0   \n",
       "3                   0021_01  ...               0.0               0.0   \n",
       "4                   0023_01  ...               0.0               0.0   \n",
       "...                     ...  ...               ...               ...   \n",
       "4272                9266_02  ...               0.0               0.0   \n",
       "4273                9269_01  ...               0.0               0.0   \n",
       "4274                9271_01  ...               0.0               0.0   \n",
       "4275                9273_01  ...               0.0               0.0   \n",
       "4276                9277_01  ...               0.0               0.0   \n",
       "\n",
       "     remainder__Deck_C  remainder__Deck_D  remainder__Deck_E  \\\n",
       "0                  0.0                0.0                0.0   \n",
       "1                  0.0                0.0                0.0   \n",
       "2                  1.0                0.0                0.0   \n",
       "3                  1.0                0.0                0.0   \n",
       "4                  0.0                0.0                0.0   \n",
       "...                ...                ...                ...   \n",
       "4272               0.0                0.0                0.0   \n",
       "4273               0.0                0.0                0.0   \n",
       "4274               0.0                1.0                0.0   \n",
       "4275               0.0                1.0                0.0   \n",
       "4276               0.0                0.0                0.0   \n",
       "\n",
       "      remainder__Deck_F  remainder__Deck_G  remainder__Deck_T  \\\n",
       "0                   0.0                1.0                0.0   \n",
       "1                   1.0                0.0                0.0   \n",
       "2                   0.0                0.0                0.0   \n",
       "3                   0.0                0.0                0.0   \n",
       "4                   1.0                0.0                0.0   \n",
       "...                 ...                ...                ...   \n",
       "4272                0.0                1.0                0.0   \n",
       "4273                0.0                0.0                0.0   \n",
       "4274                0.0                0.0                0.0   \n",
       "4275                0.0                0.0                0.0   \n",
       "4276                0.0                1.0                0.0   \n",
       "\n",
       "      remainder__Side_P  remainder__Side_S  \n",
       "0                   0.0                1.0  \n",
       "1                   0.0                1.0  \n",
       "2                   0.0                1.0  \n",
       "3                   0.0                1.0  \n",
       "4                   0.0                1.0  \n",
       "...                 ...                ...  \n",
       "4272                0.0                1.0  \n",
       "4273                0.0                0.0  \n",
       "4274                1.0                0.0  \n",
       "4275                1.0                0.0  \n",
       "4276                0.0                1.0  \n",
       "\n",
       "[4277 rows x 29 columns]"
      ]
     },
     "execution_count": 21,
     "metadata": {},
     "output_type": "execute_result"
    }
   ],
   "source": [
    "submit_prepared"
   ]
  },
  {
   "cell_type": "code",
   "execution_count": 22,
   "id": "73f8b088",
   "metadata": {
    "execution": {
     "iopub.execute_input": "2023-08-10T00:21:34.775587Z",
     "iopub.status.busy": "2023-08-10T00:21:34.775161Z",
     "iopub.status.idle": "2023-08-10T00:21:34.792263Z",
     "shell.execute_reply": "2023-08-10T00:21:34.791136Z"
    },
    "papermill": {
     "duration": 0.038438,
     "end_time": "2023-08-10T00:21:34.795024",
     "exception": false,
     "start_time": "2023-08-10T00:21:34.756586",
     "status": "completed"
    },
    "tags": []
   },
   "outputs": [
    {
     "data": {
      "text/plain": [
       "num__Age                                  0\n",
       "num__RoomService                          0\n",
       "num__FoodCourt                            0\n",
       "num__ShoppingMall                         0\n",
       "num__Spa                                  0\n",
       "num__VRDeck                               0\n",
       "num__Spending                             0\n",
       "bool__VIP                               203\n",
       "bool__CryoSleep                         217\n",
       "remainder__PassengerId                    0\n",
       "remainder__Cabin                        199\n",
       "remainder__Name                         200\n",
       "remainder__Transported                    0\n",
       "remainder__CabinNumber                  199\n",
       "remainder__HomePlanet_Earth               0\n",
       "remainder__HomePlanet_Europa              0\n",
       "remainder__HomePlanet_Mars                0\n",
       "remainder__Destination_55 Cancri e        0\n",
       "remainder__Destination_PSO J318.5-22      0\n",
       "remainder__Destination_TRAPPIST-1e        0\n",
       "remainder__Deck_A                         0\n",
       "remainder__Deck_B                         0\n",
       "remainder__Deck_C                         0\n",
       "remainder__Deck_D                         0\n",
       "remainder__Deck_E                         0\n",
       "remainder__Deck_F                         0\n",
       "remainder__Deck_G                         0\n",
       "remainder__Deck_T                         0\n",
       "remainder__Side_P                         0\n",
       "remainder__Side_S                         0\n",
       "dtype: int64"
      ]
     },
     "execution_count": 22,
     "metadata": {},
     "output_type": "execute_result"
    }
   ],
   "source": [
    "nan_counts = train_prepared.isna().sum()\n",
    "nan_counts"
   ]
  },
  {
   "cell_type": "code",
   "execution_count": 23,
   "id": "b236fe2a",
   "metadata": {
    "execution": {
     "iopub.execute_input": "2023-08-10T00:21:34.830009Z",
     "iopub.status.busy": "2023-08-10T00:21:34.829245Z",
     "iopub.status.idle": "2023-08-10T00:21:34.841418Z",
     "shell.execute_reply": "2023-08-10T00:21:34.840308Z"
    },
    "papermill": {
     "duration": 0.032543,
     "end_time": "2023-08-10T00:21:34.843899",
     "exception": false,
     "start_time": "2023-08-10T00:21:34.811356",
     "status": "completed"
    },
    "tags": []
   },
   "outputs": [
    {
     "data": {
      "text/plain": [
       "num__Age                                  0\n",
       "num__RoomService                          0\n",
       "num__FoodCourt                            0\n",
       "num__ShoppingMall                         0\n",
       "num__Spa                                  0\n",
       "num__VRDeck                               0\n",
       "num__Spending                             0\n",
       "bool__VIP                                93\n",
       "bool__CryoSleep                          93\n",
       "remainder__PassengerId                    0\n",
       "remainder__Cabin                        100\n",
       "remainder__Name                          94\n",
       "remainder__CabinNumber                  100\n",
       "remainder__HomePlanet_Earth               0\n",
       "remainder__HomePlanet_Europa              0\n",
       "remainder__HomePlanet_Mars                0\n",
       "remainder__Destination_55 Cancri e        0\n",
       "remainder__Destination_PSO J318.5-22      0\n",
       "remainder__Destination_TRAPPIST-1e        0\n",
       "remainder__Deck_A                         0\n",
       "remainder__Deck_B                         0\n",
       "remainder__Deck_C                         0\n",
       "remainder__Deck_D                         0\n",
       "remainder__Deck_E                         0\n",
       "remainder__Deck_F                         0\n",
       "remainder__Deck_G                         0\n",
       "remainder__Deck_T                         0\n",
       "remainder__Side_P                         0\n",
       "remainder__Side_S                         0\n",
       "dtype: int64"
      ]
     },
     "execution_count": 23,
     "metadata": {},
     "output_type": "execute_result"
    }
   ],
   "source": [
    "nan_counts = submit_prepared.isna().sum()\n",
    "nan_counts"
   ]
  },
  {
   "cell_type": "code",
   "execution_count": 24,
   "id": "88085250",
   "metadata": {
    "execution": {
     "iopub.execute_input": "2023-08-10T00:21:34.878481Z",
     "iopub.status.busy": "2023-08-10T00:21:34.878084Z",
     "iopub.status.idle": "2023-08-10T00:21:34.902858Z",
     "shell.execute_reply": "2023-08-10T00:21:34.902020Z"
    },
    "papermill": {
     "duration": 0.044601,
     "end_time": "2023-08-10T00:21:34.905218",
     "exception": false,
     "start_time": "2023-08-10T00:21:34.860617",
     "status": "completed"
    },
    "tags": []
   },
   "outputs": [],
   "source": [
    "# Fill missing values\n",
    "train_prepared[['bool__VIP','bool__CryoSleep']] = train_prepared[['bool__VIP','bool__CryoSleep']].fillna(value=0.0)\n",
    "submit_prepared[['bool__VIP','bool__CryoSleep']] = submit_prepared[['bool__VIP','bool__CryoSleep']].fillna(value=0.0)\n",
    "\n",
    "train_prepared[['remainder__CabinNumber']] = train_prepared[['remainder__CabinNumber']].fillna(value=\"-1\")\n",
    "submit_prepared[['remainder__CabinNumber']] = submit_prepared[['remainder__CabinNumber']].fillna(value='-1')\n"
   ]
  },
  {
   "cell_type": "code",
   "execution_count": 25,
   "id": "884da5c9",
   "metadata": {
    "execution": {
     "iopub.execute_input": "2023-08-10T00:21:34.939907Z",
     "iopub.status.busy": "2023-08-10T00:21:34.939176Z",
     "iopub.status.idle": "2023-08-10T00:21:34.951398Z",
     "shell.execute_reply": "2023-08-10T00:21:34.950349Z"
    },
    "papermill": {
     "duration": 0.032089,
     "end_time": "2023-08-10T00:21:34.953667",
     "exception": false,
     "start_time": "2023-08-10T00:21:34.921578",
     "status": "completed"
    },
    "tags": []
   },
   "outputs": [
    {
     "data": {
      "text/plain": [
       "num__Age                                  0\n",
       "num__RoomService                          0\n",
       "num__FoodCourt                            0\n",
       "num__ShoppingMall                         0\n",
       "num__Spa                                  0\n",
       "num__VRDeck                               0\n",
       "num__Spending                             0\n",
       "bool__VIP                                 0\n",
       "bool__CryoSleep                           0\n",
       "remainder__PassengerId                    0\n",
       "remainder__Cabin                        100\n",
       "remainder__Name                          94\n",
       "remainder__CabinNumber                    0\n",
       "remainder__HomePlanet_Earth               0\n",
       "remainder__HomePlanet_Europa              0\n",
       "remainder__HomePlanet_Mars                0\n",
       "remainder__Destination_55 Cancri e        0\n",
       "remainder__Destination_PSO J318.5-22      0\n",
       "remainder__Destination_TRAPPIST-1e        0\n",
       "remainder__Deck_A                         0\n",
       "remainder__Deck_B                         0\n",
       "remainder__Deck_C                         0\n",
       "remainder__Deck_D                         0\n",
       "remainder__Deck_E                         0\n",
       "remainder__Deck_F                         0\n",
       "remainder__Deck_G                         0\n",
       "remainder__Deck_T                         0\n",
       "remainder__Side_P                         0\n",
       "remainder__Side_S                         0\n",
       "dtype: int64"
      ]
     },
     "execution_count": 25,
     "metadata": {},
     "output_type": "execute_result"
    }
   ],
   "source": [
    "nan_counts = submit_prepared.isna().sum()\n",
    "nan_counts"
   ]
  },
  {
   "cell_type": "code",
   "execution_count": 26,
   "id": "55f17d6a",
   "metadata": {
    "execution": {
     "iopub.execute_input": "2023-08-10T00:21:34.989009Z",
     "iopub.status.busy": "2023-08-10T00:21:34.988582Z",
     "iopub.status.idle": "2023-08-10T00:21:34.995721Z",
     "shell.execute_reply": "2023-08-10T00:21:34.994671Z"
    },
    "papermill": {
     "duration": 0.027666,
     "end_time": "2023-08-10T00:21:34.997775",
     "exception": false,
     "start_time": "2023-08-10T00:21:34.970109",
     "status": "completed"
    },
    "tags": []
   },
   "outputs": [
    {
     "data": {
      "text/plain": [
       "['num__Age',\n",
       " 'num__RoomService',\n",
       " 'num__FoodCourt',\n",
       " 'num__ShoppingMall',\n",
       " 'num__Spa',\n",
       " 'num__VRDeck',\n",
       " 'num__Spending',\n",
       " 'bool__VIP',\n",
       " 'bool__CryoSleep',\n",
       " 'remainder__PassengerId',\n",
       " 'remainder__Cabin',\n",
       " 'remainder__Name',\n",
       " 'remainder__Transported',\n",
       " 'remainder__CabinNumber',\n",
       " 'remainder__HomePlanet_Earth',\n",
       " 'remainder__HomePlanet_Europa',\n",
       " 'remainder__HomePlanet_Mars',\n",
       " 'remainder__Destination_55 Cancri e',\n",
       " 'remainder__Destination_PSO J318.5-22',\n",
       " 'remainder__Destination_TRAPPIST-1e',\n",
       " 'remainder__Deck_A',\n",
       " 'remainder__Deck_B',\n",
       " 'remainder__Deck_C',\n",
       " 'remainder__Deck_D',\n",
       " 'remainder__Deck_E',\n",
       " 'remainder__Deck_F',\n",
       " 'remainder__Deck_G',\n",
       " 'remainder__Deck_T',\n",
       " 'remainder__Side_P',\n",
       " 'remainder__Side_S']"
      ]
     },
     "execution_count": 26,
     "metadata": {},
     "output_type": "execute_result"
    }
   ],
   "source": [
    "[c for c in train_prepared.columns if c in train_prepared]"
   ]
  },
  {
   "cell_type": "code",
   "execution_count": 27,
   "id": "6449d2e6",
   "metadata": {
    "execution": {
     "iopub.execute_input": "2023-08-10T00:21:35.033160Z",
     "iopub.status.busy": "2023-08-10T00:21:35.032440Z",
     "iopub.status.idle": "2023-08-10T00:21:35.039821Z",
     "shell.execute_reply": "2023-08-10T00:21:35.038758Z"
    },
    "papermill": {
     "duration": 0.027678,
     "end_time": "2023-08-10T00:21:35.042187",
     "exception": false,
     "start_time": "2023-08-10T00:21:35.014509",
     "status": "completed"
    },
    "tags": []
   },
   "outputs": [
    {
     "data": {
      "text/plain": [
       "30"
      ]
     },
     "execution_count": 27,
     "metadata": {},
     "output_type": "execute_result"
    }
   ],
   "source": [
    "len([c for c in train_prepared.columns if c in train_prepared])"
   ]
  },
  {
   "cell_type": "code",
   "execution_count": 28,
   "id": "b17fecbd",
   "metadata": {
    "execution": {
     "iopub.execute_input": "2023-08-10T00:21:35.077429Z",
     "iopub.status.busy": "2023-08-10T00:21:35.077050Z",
     "iopub.status.idle": "2023-08-10T00:21:35.085342Z",
     "shell.execute_reply": "2023-08-10T00:21:35.084134Z"
    },
    "papermill": {
     "duration": 0.02896,
     "end_time": "2023-08-10T00:21:35.087876",
     "exception": false,
     "start_time": "2023-08-10T00:21:35.058916",
     "status": "completed"
    },
    "tags": []
   },
   "outputs": [],
   "source": [
    "train_prepared = train_prepared.drop([\"num__RoomService\", \"num__FoodCourt\", \"num__ShoppingMall\", \"num__Spa\", \"num__VRDeck\", \"remainder__Name\",\"remainder__Cabin\"],axis=1)\n",
    "submit_prepared = submit_prepared.drop([\"num__RoomService\", \"num__FoodCourt\", \"num__ShoppingMall\", \"num__Spa\", \"num__VRDeck\",\"remainder__Cabin\", \"remainder__Name\"],axis=1)"
   ]
  },
  {
   "cell_type": "markdown",
   "id": "bf8ae2db",
   "metadata": {
    "papermill": {
     "duration": 0.0162,
     "end_time": "2023-08-10T00:21:35.121852",
     "exception": false,
     "start_time": "2023-08-10T00:21:35.105652",
     "status": "completed"
    },
    "tags": []
   },
   "source": [
    "# Model Exploration"
   ]
  },
  {
   "cell_type": "code",
   "execution_count": 29,
   "id": "b95227b6",
   "metadata": {
    "execution": {
     "iopub.execute_input": "2023-08-10T00:21:35.159101Z",
     "iopub.status.busy": "2023-08-10T00:21:35.158092Z",
     "iopub.status.idle": "2023-08-10T00:21:35.176090Z",
     "shell.execute_reply": "2023-08-10T00:21:35.175056Z"
    },
    "papermill": {
     "duration": 0.039531,
     "end_time": "2023-08-10T00:21:35.178422",
     "exception": false,
     "start_time": "2023-08-10T00:21:35.138891",
     "status": "completed"
    },
    "tags": []
   },
   "outputs": [
    {
     "data": {
      "text/plain": [
       "num__Age                                0\n",
       "num__Spending                           0\n",
       "bool__VIP                               0\n",
       "bool__CryoSleep                         0\n",
       "remainder__PassengerId                  0\n",
       "remainder__Transported                  0\n",
       "remainder__CabinNumber                  0\n",
       "remainder__HomePlanet_Earth             0\n",
       "remainder__HomePlanet_Europa            0\n",
       "remainder__HomePlanet_Mars              0\n",
       "remainder__Destination_55 Cancri e      0\n",
       "remainder__Destination_PSO J318.5-22    0\n",
       "remainder__Destination_TRAPPIST-1e      0\n",
       "remainder__Deck_A                       0\n",
       "remainder__Deck_B                       0\n",
       "remainder__Deck_C                       0\n",
       "remainder__Deck_D                       0\n",
       "remainder__Deck_E                       0\n",
       "remainder__Deck_F                       0\n",
       "remainder__Deck_G                       0\n",
       "remainder__Deck_T                       0\n",
       "remainder__Side_P                       0\n",
       "remainder__Side_S                       0\n",
       "dtype: int64"
      ]
     },
     "execution_count": 29,
     "metadata": {},
     "output_type": "execute_result"
    }
   ],
   "source": [
    "from sklearn.model_selection import train_test_split\n",
    "train_set, test_set = train_test_split(train_prepared, test_size=0.2, random_state=42)\n",
    "train_set.isna().sum()"
   ]
  },
  {
   "cell_type": "code",
   "execution_count": 30,
   "id": "68fa2eb8",
   "metadata": {
    "execution": {
     "iopub.execute_input": "2023-08-10T00:21:35.214268Z",
     "iopub.status.busy": "2023-08-10T00:21:35.213417Z",
     "iopub.status.idle": "2023-08-10T00:21:35.228286Z",
     "shell.execute_reply": "2023-08-10T00:21:35.227234Z"
    },
    "papermill": {
     "duration": 0.035186,
     "end_time": "2023-08-10T00:21:35.230727",
     "exception": false,
     "start_time": "2023-08-10T00:21:35.195541",
     "status": "completed"
    },
    "tags": []
   },
   "outputs": [],
   "source": [
    "# Get Appropriate labels\n",
    "train_set_labels = train_set[\"remainder__Transported\"]\n",
    "test_set_labels = test_set[\"remainder__Transported\"]\n",
    "\n",
    "#Drop from both\n",
    "train_set = train_set.drop([\"remainder__Transported\"],axis=1)\n",
    "test_set = test_set.drop([\"remainder__Transported\"],axis=1)\n",
    "\n",
    "# Convert\n",
    "train_set_labels = train_set_labels.replace({True: 1.0, False: 0.0})\n",
    "test_set_labels = test_set_labels.replace({True: 1, False: 0})\n",
    "\n",
    "train_set_labels = train_set_labels.values.ravel()\n",
    "test_set_labels = test_set_labels.values.ravel()"
   ]
  },
  {
   "cell_type": "code",
   "execution_count": 31,
   "id": "a62e803b",
   "metadata": {
    "execution": {
     "iopub.execute_input": "2023-08-10T00:21:35.266055Z",
     "iopub.status.busy": "2023-08-10T00:21:35.265657Z",
     "iopub.status.idle": "2023-08-10T00:21:35.272272Z",
     "shell.execute_reply": "2023-08-10T00:21:35.271193Z"
    },
    "papermill": {
     "duration": 0.026573,
     "end_time": "2023-08-10T00:21:35.274319",
     "exception": false,
     "start_time": "2023-08-10T00:21:35.247746",
     "status": "completed"
    },
    "tags": []
   },
   "outputs": [
    {
     "data": {
      "text/plain": [
       "array([0., 0., 1., ..., 0., 0., 0.])"
      ]
     },
     "execution_count": 31,
     "metadata": {},
     "output_type": "execute_result"
    }
   ],
   "source": [
    "train_set_labels"
   ]
  },
  {
   "cell_type": "code",
   "execution_count": 32,
   "id": "080e3771",
   "metadata": {
    "execution": {
     "iopub.execute_input": "2023-08-10T00:21:35.311051Z",
     "iopub.status.busy": "2023-08-10T00:21:35.310353Z",
     "iopub.status.idle": "2023-08-10T00:21:35.316846Z",
     "shell.execute_reply": "2023-08-10T00:21:35.315616Z"
    },
    "papermill": {
     "duration": 0.027086,
     "end_time": "2023-08-10T00:21:35.319088",
     "exception": false,
     "start_time": "2023-08-10T00:21:35.292002",
     "status": "completed"
    },
    "tags": []
   },
   "outputs": [
    {
     "data": {
      "text/plain": [
       "array([1, 0, 0, ..., 0, 1, 0])"
      ]
     },
     "execution_count": 32,
     "metadata": {},
     "output_type": "execute_result"
    }
   ],
   "source": [
    "test_set_labels"
   ]
  },
  {
   "cell_type": "code",
   "execution_count": 33,
   "id": "75236a55",
   "metadata": {
    "execution": {
     "iopub.execute_input": "2023-08-10T00:21:35.355898Z",
     "iopub.status.busy": "2023-08-10T00:21:35.354829Z",
     "iopub.status.idle": "2023-08-10T00:21:35.359769Z",
     "shell.execute_reply": "2023-08-10T00:21:35.358987Z"
    },
    "papermill": {
     "duration": 0.025825,
     "end_time": "2023-08-10T00:21:35.361900",
     "exception": false,
     "start_time": "2023-08-10T00:21:35.336075",
     "status": "completed"
    },
    "tags": []
   },
   "outputs": [],
   "source": [
    "from sklearn.model_selection import cross_val_score"
   ]
  },
  {
   "cell_type": "markdown",
   "id": "ba99d298",
   "metadata": {
    "papermill": {
     "duration": 0.016642,
     "end_time": "2023-08-10T00:21:35.395608",
     "exception": false,
     "start_time": "2023-08-10T00:21:35.378966",
     "status": "completed"
    },
    "tags": []
   },
   "source": [
    "Model 1: Decision Tree"
   ]
  },
  {
   "cell_type": "code",
   "execution_count": 34,
   "id": "30f81ee6",
   "metadata": {
    "execution": {
     "iopub.execute_input": "2023-08-10T00:21:35.431284Z",
     "iopub.status.busy": "2023-08-10T00:21:35.430833Z",
     "iopub.status.idle": "2023-08-10T00:21:35.544941Z",
     "shell.execute_reply": "2023-08-10T00:21:35.544107Z"
    },
    "papermill": {
     "duration": 0.134937,
     "end_time": "2023-08-10T00:21:35.547443",
     "exception": false,
     "start_time": "2023-08-10T00:21:35.412506",
     "status": "completed"
    },
    "tags": []
   },
   "outputs": [
    {
     "data": {
      "text/plain": [
       "array([0., 0., 1., ..., 0., 1., 1.])"
      ]
     },
     "execution_count": 34,
     "metadata": {},
     "output_type": "execute_result"
    }
   ],
   "source": [
    "from sklearn.tree import DecisionTreeRegressor\n",
    "tree_reg = DecisionTreeRegressor()\n",
    "\n",
    "tree_reg.fit(train_set, train_set_labels)\n",
    "predictions = tree_reg.predict(test_set)\n",
    "predictions"
   ]
  },
  {
   "cell_type": "code",
   "execution_count": 35,
   "id": "a9766b72",
   "metadata": {
    "execution": {
     "iopub.execute_input": "2023-08-10T00:21:35.584336Z",
     "iopub.status.busy": "2023-08-10T00:21:35.583511Z",
     "iopub.status.idle": "2023-08-10T00:21:35.892471Z",
     "shell.execute_reply": "2023-08-10T00:21:35.890886Z"
    },
    "papermill": {
     "duration": 0.330592,
     "end_time": "2023-08-10T00:21:35.895285",
     "exception": false,
     "start_time": "2023-08-10T00:21:35.564693",
     "status": "completed"
    },
    "tags": []
   },
   "outputs": [
    {
     "data": {
      "text/plain": [
       "array([0.67385677, 0.69628991, 0.68334771, 0.66695427, 0.68507334,\n",
       "       0.68679896])"
      ]
     },
     "execution_count": 35,
     "metadata": {},
     "output_type": "execute_result"
    }
   ],
   "source": [
    "cross_val_score(tree_reg, train_set, train_set_labels, cv=6, scoring=\"accuracy\")"
   ]
  },
  {
   "cell_type": "markdown",
   "id": "ed683b4d",
   "metadata": {
    "papermill": {
     "duration": 0.01678,
     "end_time": "2023-08-10T00:21:35.929508",
     "exception": false,
     "start_time": "2023-08-10T00:21:35.912728",
     "status": "completed"
    },
    "tags": []
   },
   "source": [
    " Model 2: RandomForestClassifier"
   ]
  },
  {
   "cell_type": "code",
   "execution_count": 36,
   "id": "46cc8311",
   "metadata": {
    "execution": {
     "iopub.execute_input": "2023-08-10T00:21:35.965779Z",
     "iopub.status.busy": "2023-08-10T00:21:35.965363Z",
     "iopub.status.idle": "2023-08-10T00:22:05.401567Z",
     "shell.execute_reply": "2023-08-10T00:22:05.400467Z"
    },
    "papermill": {
     "duration": 29.457406,
     "end_time": "2023-08-10T00:22:05.403994",
     "exception": false,
     "start_time": "2023-08-10T00:21:35.946588",
     "status": "completed"
    },
    "tags": []
   },
   "outputs": [
    {
     "data": {
      "text/html": [
       "<style>#sk-container-id-1 {color: black;background-color: white;}#sk-container-id-1 pre{padding: 0;}#sk-container-id-1 div.sk-toggleable {background-color: white;}#sk-container-id-1 label.sk-toggleable__label {cursor: pointer;display: block;width: 100%;margin-bottom: 0;padding: 0.3em;box-sizing: border-box;text-align: center;}#sk-container-id-1 label.sk-toggleable__label-arrow:before {content: \"▸\";float: left;margin-right: 0.25em;color: #696969;}#sk-container-id-1 label.sk-toggleable__label-arrow:hover:before {color: black;}#sk-container-id-1 div.sk-estimator:hover label.sk-toggleable__label-arrow:before {color: black;}#sk-container-id-1 div.sk-toggleable__content {max-height: 0;max-width: 0;overflow: hidden;text-align: left;background-color: #f0f8ff;}#sk-container-id-1 div.sk-toggleable__content pre {margin: 0.2em;color: black;border-radius: 0.25em;background-color: #f0f8ff;}#sk-container-id-1 input.sk-toggleable__control:checked~div.sk-toggleable__content {max-height: 200px;max-width: 100%;overflow: auto;}#sk-container-id-1 input.sk-toggleable__control:checked~label.sk-toggleable__label-arrow:before {content: \"▾\";}#sk-container-id-1 div.sk-estimator input.sk-toggleable__control:checked~label.sk-toggleable__label {background-color: #d4ebff;}#sk-container-id-1 div.sk-label input.sk-toggleable__control:checked~label.sk-toggleable__label {background-color: #d4ebff;}#sk-container-id-1 input.sk-hidden--visually {border: 0;clip: rect(1px 1px 1px 1px);clip: rect(1px, 1px, 1px, 1px);height: 1px;margin: -1px;overflow: hidden;padding: 0;position: absolute;width: 1px;}#sk-container-id-1 div.sk-estimator {font-family: monospace;background-color: #f0f8ff;border: 1px dotted black;border-radius: 0.25em;box-sizing: border-box;margin-bottom: 0.5em;}#sk-container-id-1 div.sk-estimator:hover {background-color: #d4ebff;}#sk-container-id-1 div.sk-parallel-item::after {content: \"\";width: 100%;border-bottom: 1px solid gray;flex-grow: 1;}#sk-container-id-1 div.sk-label:hover label.sk-toggleable__label {background-color: #d4ebff;}#sk-container-id-1 div.sk-serial::before {content: \"\";position: absolute;border-left: 1px solid gray;box-sizing: border-box;top: 0;bottom: 0;left: 50%;z-index: 0;}#sk-container-id-1 div.sk-serial {display: flex;flex-direction: column;align-items: center;background-color: white;padding-right: 0.2em;padding-left: 0.2em;position: relative;}#sk-container-id-1 div.sk-item {position: relative;z-index: 1;}#sk-container-id-1 div.sk-parallel {display: flex;align-items: stretch;justify-content: center;background-color: white;position: relative;}#sk-container-id-1 div.sk-item::before, #sk-container-id-1 div.sk-parallel-item::before {content: \"\";position: absolute;border-left: 1px solid gray;box-sizing: border-box;top: 0;bottom: 0;left: 50%;z-index: -1;}#sk-container-id-1 div.sk-parallel-item {display: flex;flex-direction: column;z-index: 1;position: relative;background-color: white;}#sk-container-id-1 div.sk-parallel-item:first-child::after {align-self: flex-end;width: 50%;}#sk-container-id-1 div.sk-parallel-item:last-child::after {align-self: flex-start;width: 50%;}#sk-container-id-1 div.sk-parallel-item:only-child::after {width: 0;}#sk-container-id-1 div.sk-dashed-wrapped {border: 1px dashed gray;margin: 0 0.4em 0.5em 0.4em;box-sizing: border-box;padding-bottom: 0.4em;background-color: white;}#sk-container-id-1 div.sk-label label {font-family: monospace;font-weight: bold;display: inline-block;line-height: 1.2em;}#sk-container-id-1 div.sk-label-container {text-align: center;}#sk-container-id-1 div.sk-container {/* jupyter's `normalize.less` sets `[hidden] { display: none; }` but bootstrap.min.css set `[hidden] { display: none !important; }` so we also need the `!important` here to be able to override the default hidden behavior on the sphinx rendered scikit-learn.org. See: https://github.com/scikit-learn/scikit-learn/issues/21755 */display: inline-block !important;position: relative;}#sk-container-id-1 div.sk-text-repr-fallback {display: none;}</style><div id=\"sk-container-id-1\" class=\"sk-top-container\"><div class=\"sk-text-repr-fallback\"><pre>GridSearchCV(estimator=RandomForestClassifier(random_state=42),\n",
       "             param_grid=[{&#x27;max_features&#x27;: [12, 16, 21],\n",
       "                          &#x27;n_estimators&#x27;: [10, 20, 30]},\n",
       "                         {&#x27;bootstrap&#x27;: [False], &#x27;max_features&#x27;: [12, 21],\n",
       "                          &#x27;n_estimators&#x27;: [5, 20]}],\n",
       "             return_train_score=True, scoring=&#x27;accuracy&#x27;)</pre><b>In a Jupyter environment, please rerun this cell to show the HTML representation or trust the notebook. <br />On GitHub, the HTML representation is unable to render, please try loading this page with nbviewer.org.</b></div><div class=\"sk-container\" hidden><div class=\"sk-item sk-dashed-wrapped\"><div class=\"sk-label-container\"><div class=\"sk-label sk-toggleable\"><input class=\"sk-toggleable__control sk-hidden--visually\" id=\"sk-estimator-id-1\" type=\"checkbox\" ><label for=\"sk-estimator-id-1\" class=\"sk-toggleable__label sk-toggleable__label-arrow\">GridSearchCV</label><div class=\"sk-toggleable__content\"><pre>GridSearchCV(estimator=RandomForestClassifier(random_state=42),\n",
       "             param_grid=[{&#x27;max_features&#x27;: [12, 16, 21],\n",
       "                          &#x27;n_estimators&#x27;: [10, 20, 30]},\n",
       "                         {&#x27;bootstrap&#x27;: [False], &#x27;max_features&#x27;: [12, 21],\n",
       "                          &#x27;n_estimators&#x27;: [5, 20]}],\n",
       "             return_train_score=True, scoring=&#x27;accuracy&#x27;)</pre></div></div></div><div class=\"sk-parallel\"><div class=\"sk-parallel-item\"><div class=\"sk-item\"><div class=\"sk-label-container\"><div class=\"sk-label sk-toggleable\"><input class=\"sk-toggleable__control sk-hidden--visually\" id=\"sk-estimator-id-2\" type=\"checkbox\" ><label for=\"sk-estimator-id-2\" class=\"sk-toggleable__label sk-toggleable__label-arrow\">estimator: RandomForestClassifier</label><div class=\"sk-toggleable__content\"><pre>RandomForestClassifier(random_state=42)</pre></div></div></div><div class=\"sk-serial\"><div class=\"sk-item\"><div class=\"sk-estimator sk-toggleable\"><input class=\"sk-toggleable__control sk-hidden--visually\" id=\"sk-estimator-id-3\" type=\"checkbox\" ><label for=\"sk-estimator-id-3\" class=\"sk-toggleable__label sk-toggleable__label-arrow\">RandomForestClassifier</label><div class=\"sk-toggleable__content\"><pre>RandomForestClassifier(random_state=42)</pre></div></div></div></div></div></div></div></div></div></div>"
      ],
      "text/plain": [
       "GridSearchCV(estimator=RandomForestClassifier(random_state=42),\n",
       "             param_grid=[{'max_features': [12, 16, 21],\n",
       "                          'n_estimators': [10, 20, 30]},\n",
       "                         {'bootstrap': [False], 'max_features': [12, 21],\n",
       "                          'n_estimators': [5, 20]}],\n",
       "             return_train_score=True, scoring='accuracy')"
      ]
     },
     "execution_count": 36,
     "metadata": {},
     "output_type": "execute_result"
    }
   ],
   "source": [
    "from sklearn.ensemble import RandomForestClassifier\n",
    "from sklearn.model_selection import GridSearchCV\n",
    "\n",
    "param_grid = [\n",
    "    {'n_estimators':[10,20,30], 'max_features':[12,16,21]},\n",
    "    {'bootstrap':[False], 'n_estimators':[5,20], 'max_features':[12,21]}\n",
    "]\n",
    "\n",
    "forest_reg = RandomForestClassifier(random_state=42)\n",
    "grid_search = GridSearchCV(forest_reg, param_grid, scoring='accuracy', return_train_score=True)\n",
    "grid_search.fit(train_set,train_set_labels)"
   ]
  },
  {
   "cell_type": "code",
   "execution_count": 37,
   "id": "dfb52bf8",
   "metadata": {
    "execution": {
     "iopub.execute_input": "2023-08-10T00:22:05.441623Z",
     "iopub.status.busy": "2023-08-10T00:22:05.441245Z",
     "iopub.status.idle": "2023-08-10T00:22:05.447563Z",
     "shell.execute_reply": "2023-08-10T00:22:05.446476Z"
    },
    "papermill": {
     "duration": 0.028035,
     "end_time": "2023-08-10T00:22:05.449768",
     "exception": false,
     "start_time": "2023-08-10T00:22:05.421733",
     "status": "completed"
    },
    "tags": []
   },
   "outputs": [
    {
     "data": {
      "text/plain": [
       "{'max_features': 16, 'n_estimators': 20}"
      ]
     },
     "execution_count": 37,
     "metadata": {},
     "output_type": "execute_result"
    }
   ],
   "source": [
    "grid_search.best_params_"
   ]
  },
  {
   "cell_type": "code",
   "execution_count": 38,
   "id": "f0554845",
   "metadata": {
    "execution": {
     "iopub.execute_input": "2023-08-10T00:22:05.486367Z",
     "iopub.status.busy": "2023-08-10T00:22:05.485944Z",
     "iopub.status.idle": "2023-08-10T00:22:05.493344Z",
     "shell.execute_reply": "2023-08-10T00:22:05.492329Z"
    },
    "papermill": {
     "duration": 0.028377,
     "end_time": "2023-08-10T00:22:05.495585",
     "exception": false,
     "start_time": "2023-08-10T00:22:05.467208",
     "status": "completed"
    },
    "tags": []
   },
   "outputs": [
    {
     "data": {
      "text/html": [
       "<style>#sk-container-id-2 {color: black;background-color: white;}#sk-container-id-2 pre{padding: 0;}#sk-container-id-2 div.sk-toggleable {background-color: white;}#sk-container-id-2 label.sk-toggleable__label {cursor: pointer;display: block;width: 100%;margin-bottom: 0;padding: 0.3em;box-sizing: border-box;text-align: center;}#sk-container-id-2 label.sk-toggleable__label-arrow:before {content: \"▸\";float: left;margin-right: 0.25em;color: #696969;}#sk-container-id-2 label.sk-toggleable__label-arrow:hover:before {color: black;}#sk-container-id-2 div.sk-estimator:hover label.sk-toggleable__label-arrow:before {color: black;}#sk-container-id-2 div.sk-toggleable__content {max-height: 0;max-width: 0;overflow: hidden;text-align: left;background-color: #f0f8ff;}#sk-container-id-2 div.sk-toggleable__content pre {margin: 0.2em;color: black;border-radius: 0.25em;background-color: #f0f8ff;}#sk-container-id-2 input.sk-toggleable__control:checked~div.sk-toggleable__content {max-height: 200px;max-width: 100%;overflow: auto;}#sk-container-id-2 input.sk-toggleable__control:checked~label.sk-toggleable__label-arrow:before {content: \"▾\";}#sk-container-id-2 div.sk-estimator input.sk-toggleable__control:checked~label.sk-toggleable__label {background-color: #d4ebff;}#sk-container-id-2 div.sk-label input.sk-toggleable__control:checked~label.sk-toggleable__label {background-color: #d4ebff;}#sk-container-id-2 input.sk-hidden--visually {border: 0;clip: rect(1px 1px 1px 1px);clip: rect(1px, 1px, 1px, 1px);height: 1px;margin: -1px;overflow: hidden;padding: 0;position: absolute;width: 1px;}#sk-container-id-2 div.sk-estimator {font-family: monospace;background-color: #f0f8ff;border: 1px dotted black;border-radius: 0.25em;box-sizing: border-box;margin-bottom: 0.5em;}#sk-container-id-2 div.sk-estimator:hover {background-color: #d4ebff;}#sk-container-id-2 div.sk-parallel-item::after {content: \"\";width: 100%;border-bottom: 1px solid gray;flex-grow: 1;}#sk-container-id-2 div.sk-label:hover label.sk-toggleable__label {background-color: #d4ebff;}#sk-container-id-2 div.sk-serial::before {content: \"\";position: absolute;border-left: 1px solid gray;box-sizing: border-box;top: 0;bottom: 0;left: 50%;z-index: 0;}#sk-container-id-2 div.sk-serial {display: flex;flex-direction: column;align-items: center;background-color: white;padding-right: 0.2em;padding-left: 0.2em;position: relative;}#sk-container-id-2 div.sk-item {position: relative;z-index: 1;}#sk-container-id-2 div.sk-parallel {display: flex;align-items: stretch;justify-content: center;background-color: white;position: relative;}#sk-container-id-2 div.sk-item::before, #sk-container-id-2 div.sk-parallel-item::before {content: \"\";position: absolute;border-left: 1px solid gray;box-sizing: border-box;top: 0;bottom: 0;left: 50%;z-index: -1;}#sk-container-id-2 div.sk-parallel-item {display: flex;flex-direction: column;z-index: 1;position: relative;background-color: white;}#sk-container-id-2 div.sk-parallel-item:first-child::after {align-self: flex-end;width: 50%;}#sk-container-id-2 div.sk-parallel-item:last-child::after {align-self: flex-start;width: 50%;}#sk-container-id-2 div.sk-parallel-item:only-child::after {width: 0;}#sk-container-id-2 div.sk-dashed-wrapped {border: 1px dashed gray;margin: 0 0.4em 0.5em 0.4em;box-sizing: border-box;padding-bottom: 0.4em;background-color: white;}#sk-container-id-2 div.sk-label label {font-family: monospace;font-weight: bold;display: inline-block;line-height: 1.2em;}#sk-container-id-2 div.sk-label-container {text-align: center;}#sk-container-id-2 div.sk-container {/* jupyter's `normalize.less` sets `[hidden] { display: none; }` but bootstrap.min.css set `[hidden] { display: none !important; }` so we also need the `!important` here to be able to override the default hidden behavior on the sphinx rendered scikit-learn.org. See: https://github.com/scikit-learn/scikit-learn/issues/21755 */display: inline-block !important;position: relative;}#sk-container-id-2 div.sk-text-repr-fallback {display: none;}</style><div id=\"sk-container-id-2\" class=\"sk-top-container\"><div class=\"sk-text-repr-fallback\"><pre>RandomForestClassifier(max_features=16, n_estimators=20, random_state=42)</pre><b>In a Jupyter environment, please rerun this cell to show the HTML representation or trust the notebook. <br />On GitHub, the HTML representation is unable to render, please try loading this page with nbviewer.org.</b></div><div class=\"sk-container\" hidden><div class=\"sk-item\"><div class=\"sk-estimator sk-toggleable\"><input class=\"sk-toggleable__control sk-hidden--visually\" id=\"sk-estimator-id-4\" type=\"checkbox\" checked><label for=\"sk-estimator-id-4\" class=\"sk-toggleable__label sk-toggleable__label-arrow\">RandomForestClassifier</label><div class=\"sk-toggleable__content\"><pre>RandomForestClassifier(max_features=16, n_estimators=20, random_state=42)</pre></div></div></div></div></div>"
      ],
      "text/plain": [
       "RandomForestClassifier(max_features=16, n_estimators=20, random_state=42)"
      ]
     },
     "execution_count": 38,
     "metadata": {},
     "output_type": "execute_result"
    }
   ],
   "source": [
    "grid_search.best_estimator_"
   ]
  },
  {
   "cell_type": "code",
   "execution_count": 39,
   "id": "ef036bfb",
   "metadata": {
    "execution": {
     "iopub.execute_input": "2023-08-10T00:22:05.532969Z",
     "iopub.status.busy": "2023-08-10T00:22:05.532561Z",
     "iopub.status.idle": "2023-08-10T00:22:10.156978Z",
     "shell.execute_reply": "2023-08-10T00:22:10.155777Z"
    },
    "papermill": {
     "duration": 4.645646,
     "end_time": "2023-08-10T00:22:10.159342",
     "exception": false,
     "start_time": "2023-08-10T00:22:05.513696",
     "status": "completed"
    },
    "tags": []
   },
   "outputs": [
    {
     "data": {
      "text/plain": [
       "array([0.66857143, 0.67714286, 0.62285714, 0.62285714, 0.65142857,\n",
       "       0.65142857, 0.67714286, 0.64285714, 0.69142857, 0.66571429])"
      ]
     },
     "execution_count": 39,
     "metadata": {},
     "output_type": "execute_result"
    }
   ],
   "source": [
    "best = grid_search.best_estimator_\n",
    "cross_val_score(best, train_set, train_set_labels, cv=10, scoring=\"recall\")"
   ]
  },
  {
   "cell_type": "code",
   "execution_count": 40,
   "id": "4f593165",
   "metadata": {
    "execution": {
     "iopub.execute_input": "2023-08-10T00:22:10.196802Z",
     "iopub.status.busy": "2023-08-10T00:22:10.196398Z",
     "iopub.status.idle": "2023-08-10T00:22:14.826135Z",
     "shell.execute_reply": "2023-08-10T00:22:14.825247Z"
    },
    "papermill": {
     "duration": 4.651114,
     "end_time": "2023-08-10T00:22:14.828394",
     "exception": false,
     "start_time": "2023-08-10T00:22:10.177280",
     "status": "completed"
    },
    "tags": []
   },
   "outputs": [
    {
     "data": {
      "text/plain": [
       "array([0.74425287, 0.72126437, 0.72126437, 0.72701149, 0.73381295,\n",
       "       0.72661871, 0.75107914, 0.7352518 , 0.74820144, 0.76402878])"
      ]
     },
     "execution_count": 40,
     "metadata": {},
     "output_type": "execute_result"
    }
   ],
   "source": [
    "cross_val_score(best, train_set, train_set_labels, cv=10, scoring=\"accuracy\")"
   ]
  },
  {
   "cell_type": "markdown",
   "id": "c18f1d40",
   "metadata": {
    "papermill": {
     "duration": 0.0176,
     "end_time": "2023-08-10T00:22:14.864019",
     "exception": false,
     "start_time": "2023-08-10T00:22:14.846419",
     "status": "completed"
    },
    "tags": []
   },
   "source": [
    "Model 3: Gradient Boost Classifier"
   ]
  },
  {
   "cell_type": "code",
   "execution_count": 41,
   "id": "1050f69e",
   "metadata": {
    "execution": {
     "iopub.execute_input": "2023-08-10T00:22:14.901437Z",
     "iopub.status.busy": "2023-08-10T00:22:14.900834Z",
     "iopub.status.idle": "2023-08-10T00:22:25.677225Z",
     "shell.execute_reply": "2023-08-10T00:22:25.676097Z"
    },
    "papermill": {
     "duration": 10.797707,
     "end_time": "2023-08-10T00:22:25.679355",
     "exception": false,
     "start_time": "2023-08-10T00:22:14.881648",
     "status": "completed"
    },
    "tags": []
   },
   "outputs": [
    {
     "data": {
      "text/plain": [
       "array([0.73706897, 0.7658046 , 0.73132184, 0.75862069, 0.74532374,\n",
       "       0.75107914, 0.77122302, 0.75683453, 0.76690647, 0.77985612])"
      ]
     },
     "execution_count": 41,
     "metadata": {},
     "output_type": "execute_result"
    }
   ],
   "source": [
    "from sklearn.ensemble import GradientBoostingClassifier\n",
    "\n",
    "gbrt = GradientBoostingClassifier(random_state= 42)\n",
    "\n",
    "cross_val_score(gbrt, train_set, train_set_labels, cv=10, scoring=\"accuracy\")"
   ]
  },
  {
   "cell_type": "code",
   "execution_count": 42,
   "id": "a5703f2c",
   "metadata": {
    "execution": {
     "iopub.execute_input": "2023-08-10T00:22:25.717740Z",
     "iopub.status.busy": "2023-08-10T00:22:25.717126Z",
     "iopub.status.idle": "2023-08-10T00:22:36.437134Z",
     "shell.execute_reply": "2023-08-10T00:22:36.435855Z"
    },
    "papermill": {
     "duration": 10.742049,
     "end_time": "2023-08-10T00:22:36.439634",
     "exception": false,
     "start_time": "2023-08-10T00:22:25.697585",
     "status": "completed"
    },
    "tags": []
   },
   "outputs": [
    {
     "data": {
      "text/plain": [
       "array([0.66857143, 0.70571429, 0.62857143, 0.68571429, 0.66571429,\n",
       "       0.69142857, 0.71142857, 0.7       , 0.73428571, 0.7       ])"
      ]
     },
     "execution_count": 42,
     "metadata": {},
     "output_type": "execute_result"
    }
   ],
   "source": [
    "cross_val_score(gbrt, train_set, train_set_labels, cv=10, scoring=\"recall\")"
   ]
  },
  {
   "cell_type": "code",
   "execution_count": 43,
   "id": "3779474c",
   "metadata": {
    "execution": {
     "iopub.execute_input": "2023-08-10T00:22:36.477782Z",
     "iopub.status.busy": "2023-08-10T00:22:36.477393Z",
     "iopub.status.idle": "2023-08-10T00:23:09.504642Z",
     "shell.execute_reply": "2023-08-10T00:23:09.503443Z"
    },
    "papermill": {
     "duration": 33.050014,
     "end_time": "2023-08-10T00:23:09.507518",
     "exception": false,
     "start_time": "2023-08-10T00:22:36.457504",
     "status": "completed"
    },
    "tags": []
   },
   "outputs": [],
   "source": [
    "param_grid = [\n",
    "    {'n_estimators':[10,20,30], 'max_features':[12,16,21], 'learning_rate': [0.05, 0.1,0.2]},\n",
    "    {'warm_start':[True], 'n_estimators':[5,20], 'max_features':[12,21], 'learning_rate': [0.05, 0.1,0.2]}\n",
    "]\n",
    "\n",
    "# Accuracy\n",
    "grid_search = GridSearchCV(gbrt, param_grid, scoring='accuracy', return_train_score=True)\n",
    "grid_search.fit(train_set,train_set_labels)\n",
    "\n",
    "accuracy_best = grid_search.best_estimator_"
   ]
  },
  {
   "cell_type": "code",
   "execution_count": 44,
   "id": "12f90018",
   "metadata": {
    "execution": {
     "iopub.execute_input": "2023-08-10T00:23:09.545409Z",
     "iopub.status.busy": "2023-08-10T00:23:09.545023Z",
     "iopub.status.idle": "2023-08-10T00:23:43.070597Z",
     "shell.execute_reply": "2023-08-10T00:23:43.069711Z"
    },
    "papermill": {
     "duration": 33.547665,
     "end_time": "2023-08-10T00:23:43.073167",
     "exception": false,
     "start_time": "2023-08-10T00:23:09.525502",
     "status": "completed"
    },
    "tags": []
   },
   "outputs": [],
   "source": [
    "# Recall\n",
    "grid_search = GridSearchCV(gbrt, param_grid, scoring='recall', return_train_score=True)\n",
    "grid_search.fit(train_set,train_set_labels)\n",
    "\n",
    "recall_best = grid_search.best_estimator_"
   ]
  },
  {
   "cell_type": "code",
   "execution_count": 45,
   "id": "0eda815b",
   "metadata": {
    "execution": {
     "iopub.execute_input": "2023-08-10T00:23:43.110740Z",
     "iopub.status.busy": "2023-08-10T00:23:43.110051Z",
     "iopub.status.idle": "2023-08-10T00:23:46.338821Z",
     "shell.execute_reply": "2023-08-10T00:23:46.337728Z"
    },
    "papermill": {
     "duration": 3.249902,
     "end_time": "2023-08-10T00:23:46.341117",
     "exception": false,
     "start_time": "2023-08-10T00:23:43.091215",
     "status": "completed"
    },
    "tags": []
   },
   "outputs": [
    {
     "data": {
      "text/plain": [
       "array([0.66285714, 0.70857143, 0.60571429, 0.69142857, 0.66571429,\n",
       "       0.69428571, 0.70571429, 0.7       , 0.70571429, 0.69142857])"
      ]
     },
     "execution_count": 45,
     "metadata": {},
     "output_type": "execute_result"
    }
   ],
   "source": [
    "cross_val_score(accuracy_best, train_set, train_set_labels, cv=10, scoring=\"recall\")"
   ]
  },
  {
   "cell_type": "code",
   "execution_count": 46,
   "id": "5539a68c",
   "metadata": {
    "execution": {
     "iopub.execute_input": "2023-08-10T00:23:46.381359Z",
     "iopub.status.busy": "2023-08-10T00:23:46.380967Z",
     "iopub.status.idle": "2023-08-10T00:23:49.609135Z",
     "shell.execute_reply": "2023-08-10T00:23:49.608167Z"
    },
    "papermill": {
     "duration": 3.24982,
     "end_time": "2023-08-10T00:23:49.611345",
     "exception": false,
     "start_time": "2023-08-10T00:23:46.361525",
     "status": "completed"
    },
    "tags": []
   },
   "outputs": [
    {
     "data": {
      "text/plain": [
       "array([0.74137931, 0.77155172, 0.7183908 , 0.76867816, 0.75683453,\n",
       "       0.74820144, 0.76978417, 0.75971223, 0.75683453, 0.77553957])"
      ]
     },
     "execution_count": 46,
     "metadata": {},
     "output_type": "execute_result"
    }
   ],
   "source": [
    "cross_val_score(accuracy_best, train_set, train_set_labels, cv=10, scoring=\"accuracy\")"
   ]
  },
  {
   "cell_type": "code",
   "execution_count": 47,
   "id": "7aaedc64",
   "metadata": {
    "execution": {
     "iopub.execute_input": "2023-08-10T00:23:49.650260Z",
     "iopub.status.busy": "2023-08-10T00:23:49.649862Z",
     "iopub.status.idle": "2023-08-10T00:23:52.983963Z",
     "shell.execute_reply": "2023-08-10T00:23:52.982761Z"
    },
    "papermill": {
     "duration": 3.356364,
     "end_time": "2023-08-10T00:23:52.986173",
     "exception": false,
     "start_time": "2023-08-10T00:23:49.629809",
     "status": "completed"
    },
    "tags": []
   },
   "outputs": [
    {
     "data": {
      "text/plain": [
       "array([0.78911565, 0.81311475, 0.78518519, 0.82033898, 0.81754386,\n",
       "       0.78135048, 0.8125    , 0.7980456 , 0.78913738, 0.83448276])"
      ]
     },
     "execution_count": 47,
     "metadata": {},
     "output_type": "execute_result"
    }
   ],
   "source": [
    "cross_val_score(accuracy_best, train_set, train_set_labels, cv=10, scoring=\"precision\")"
   ]
  },
  {
   "cell_type": "code",
   "execution_count": 48,
   "id": "6fa2a528",
   "metadata": {
    "execution": {
     "iopub.execute_input": "2023-08-10T00:23:53.025201Z",
     "iopub.status.busy": "2023-08-10T00:23:53.024220Z",
     "iopub.status.idle": "2023-08-10T00:23:53.757268Z",
     "shell.execute_reply": "2023-08-10T00:23:53.756207Z"
    },
    "papermill": {
     "duration": 0.755013,
     "end_time": "2023-08-10T00:23:53.759662",
     "exception": false,
     "start_time": "2023-08-10T00:23:53.004649",
     "status": "completed"
    },
    "tags": []
   },
   "outputs": [
    {
     "data": {
      "text/plain": [
       "array([0.69142857, 0.69428571, 0.61142857, 0.68285714, 0.67142857,\n",
       "       0.68857143, 0.68857143, 0.70285714, 0.72285714, 0.69428571])"
      ]
     },
     "execution_count": 48,
     "metadata": {},
     "output_type": "execute_result"
    }
   ],
   "source": [
    "cross_val_score(recall_best, train_set, train_set_labels, cv=10, scoring=\"recall\")"
   ]
  },
  {
   "cell_type": "code",
   "execution_count": 49,
   "id": "24e5ea90",
   "metadata": {
    "execution": {
     "iopub.execute_input": "2023-08-10T00:23:53.798254Z",
     "iopub.status.busy": "2023-08-10T00:23:53.797858Z",
     "iopub.status.idle": "2023-08-10T00:23:54.502888Z",
     "shell.execute_reply": "2023-08-10T00:23:54.501812Z"
    },
    "papermill": {
     "duration": 0.72684,
     "end_time": "2023-08-10T00:23:54.504919",
     "exception": false,
     "start_time": "2023-08-10T00:23:53.778079",
     "status": "completed"
    },
    "tags": []
   },
   "outputs": [
    {
     "data": {
      "text/plain": [
       "array([0.7341954 , 0.74137931, 0.7112069 , 0.74425287, 0.74532374,\n",
       "       0.73093525, 0.74820144, 0.74388489, 0.75683453, 0.76258993])"
      ]
     },
     "execution_count": 49,
     "metadata": {},
     "output_type": "execute_result"
    }
   ],
   "source": [
    "cross_val_score(recall_best, train_set, train_set_labels, cv=10, scoring=\"accuracy\")"
   ]
  },
  {
   "cell_type": "code",
   "execution_count": 50,
   "id": "e4285303",
   "metadata": {
    "execution": {
     "iopub.execute_input": "2023-08-10T00:23:54.543661Z",
     "iopub.status.busy": "2023-08-10T00:23:54.542985Z",
     "iopub.status.idle": "2023-08-10T00:23:55.264078Z",
     "shell.execute_reply": "2023-08-10T00:23:55.262893Z"
    },
    "papermill": {
     "duration": 0.743155,
     "end_time": "2023-08-10T00:23:55.266404",
     "exception": false,
     "start_time": "2023-08-10T00:23:54.523249",
     "status": "completed"
    },
    "tags": []
   },
   "outputs": [
    {
     "data": {
      "text/plain": [
       "array([0.75862069, 0.76898734, 0.76702509, 0.78104575, 0.79124579,\n",
       "       0.75548589, 0.78501629, 0.76875   , 0.77846154, 0.80730897])"
      ]
     },
     "execution_count": 50,
     "metadata": {},
     "output_type": "execute_result"
    }
   ],
   "source": [
    "cross_val_score(recall_best, train_set, train_set_labels, cv=10, scoring=\"precision\")"
   ]
  },
  {
   "cell_type": "markdown",
   "id": "789c79ac",
   "metadata": {
    "papermill": {
     "duration": 0.018379,
     "end_time": "2023-08-10T00:23:55.303223",
     "exception": false,
     "start_time": "2023-08-10T00:23:55.284844",
     "status": "completed"
    },
    "tags": []
   },
   "source": [
    "# Predictions"
   ]
  },
  {
   "cell_type": "code",
   "execution_count": 51,
   "id": "af4bcbcc",
   "metadata": {
    "execution": {
     "iopub.execute_input": "2023-08-10T00:23:55.341801Z",
     "iopub.status.busy": "2023-08-10T00:23:55.341445Z",
     "iopub.status.idle": "2023-08-10T00:23:55.699826Z",
     "shell.execute_reply": "2023-08-10T00:23:55.698798Z"
    },
    "papermill": {
     "duration": 0.380432,
     "end_time": "2023-08-10T00:23:55.702135",
     "exception": false,
     "start_time": "2023-08-10T00:23:55.321703",
     "status": "completed"
    },
    "tags": []
   },
   "outputs": [
    {
     "data": {
      "text/plain": [
       "array([0., 0., 1., ..., 0., 1., 1.])"
      ]
     },
     "execution_count": 51,
     "metadata": {},
     "output_type": "execute_result"
    }
   ],
   "source": [
    "accuracy_best.fit(train_set,train_set_labels)\n",
    "predictions = accuracy_best.predict(test_set)\n",
    "predictions"
   ]
  },
  {
   "cell_type": "code",
   "execution_count": 52,
   "id": "aef889d7",
   "metadata": {
    "execution": {
     "iopub.execute_input": "2023-08-10T00:23:55.740916Z",
     "iopub.status.busy": "2023-08-10T00:23:55.740568Z",
     "iopub.status.idle": "2023-08-10T00:23:55.748520Z",
     "shell.execute_reply": "2023-08-10T00:23:55.747627Z"
    },
    "papermill": {
     "duration": 0.029943,
     "end_time": "2023-08-10T00:23:55.750594",
     "exception": false,
     "start_time": "2023-08-10T00:23:55.720651",
     "status": "completed"
    },
    "tags": []
   },
   "outputs": [],
   "source": [
    "test_output = pd.DataFrame()\n",
    "test_output[\"PassengerId\"] = test_set.index\n",
    "test_output[\"Predicted\"] = predictions\n",
    "test_output[\"Actual\"] = test_set_labels\n",
    "test_output[\"Correct\"] = test_output[\"Predicted\"] == test_output[\"Actual\"]"
   ]
  },
  {
   "cell_type": "code",
   "execution_count": 53,
   "id": "140bab49",
   "metadata": {
    "execution": {
     "iopub.execute_input": "2023-08-10T00:23:55.791066Z",
     "iopub.status.busy": "2023-08-10T00:23:55.790312Z",
     "iopub.status.idle": "2023-08-10T00:23:55.803848Z",
     "shell.execute_reply": "2023-08-10T00:23:55.802799Z"
    },
    "papermill": {
     "duration": 0.035596,
     "end_time": "2023-08-10T00:23:55.806061",
     "exception": false,
     "start_time": "2023-08-10T00:23:55.770465",
     "status": "completed"
    },
    "tags": []
   },
   "outputs": [
    {
     "data": {
      "text/html": [
       "<div>\n",
       "<style scoped>\n",
       "    .dataframe tbody tr th:only-of-type {\n",
       "        vertical-align: middle;\n",
       "    }\n",
       "\n",
       "    .dataframe tbody tr th {\n",
       "        vertical-align: top;\n",
       "    }\n",
       "\n",
       "    .dataframe thead th {\n",
       "        text-align: right;\n",
       "    }\n",
       "</style>\n",
       "<table border=\"1\" class=\"dataframe\">\n",
       "  <thead>\n",
       "    <tr style=\"text-align: right;\">\n",
       "      <th></th>\n",
       "      <th>PassengerId</th>\n",
       "      <th>Predicted</th>\n",
       "      <th>Actual</th>\n",
       "      <th>Correct</th>\n",
       "    </tr>\n",
       "  </thead>\n",
       "  <tbody>\n",
       "    <tr>\n",
       "      <th>0</th>\n",
       "      <td>304</td>\n",
       "      <td>0.0</td>\n",
       "      <td>1</td>\n",
       "      <td>False</td>\n",
       "    </tr>\n",
       "    <tr>\n",
       "      <th>1</th>\n",
       "      <td>2697</td>\n",
       "      <td>0.0</td>\n",
       "      <td>0</td>\n",
       "      <td>True</td>\n",
       "    </tr>\n",
       "    <tr>\n",
       "      <th>2</th>\n",
       "      <td>8424</td>\n",
       "      <td>1.0</td>\n",
       "      <td>0</td>\n",
       "      <td>False</td>\n",
       "    </tr>\n",
       "    <tr>\n",
       "      <th>3</th>\n",
       "      <td>1672</td>\n",
       "      <td>0.0</td>\n",
       "      <td>1</td>\n",
       "      <td>False</td>\n",
       "    </tr>\n",
       "    <tr>\n",
       "      <th>4</th>\n",
       "      <td>8458</td>\n",
       "      <td>1.0</td>\n",
       "      <td>1</td>\n",
       "      <td>True</td>\n",
       "    </tr>\n",
       "    <tr>\n",
       "      <th>...</th>\n",
       "      <td>...</td>\n",
       "      <td>...</td>\n",
       "      <td>...</td>\n",
       "      <td>...</td>\n",
       "    </tr>\n",
       "    <tr>\n",
       "      <th>1734</th>\n",
       "      <td>7175</td>\n",
       "      <td>1.0</td>\n",
       "      <td>0</td>\n",
       "      <td>False</td>\n",
       "    </tr>\n",
       "    <tr>\n",
       "      <th>1735</th>\n",
       "      <td>3187</td>\n",
       "      <td>1.0</td>\n",
       "      <td>1</td>\n",
       "      <td>True</td>\n",
       "    </tr>\n",
       "    <tr>\n",
       "      <th>1736</th>\n",
       "      <td>1302</td>\n",
       "      <td>0.0</td>\n",
       "      <td>0</td>\n",
       "      <td>True</td>\n",
       "    </tr>\n",
       "    <tr>\n",
       "      <th>1737</th>\n",
       "      <td>5934</td>\n",
       "      <td>1.0</td>\n",
       "      <td>1</td>\n",
       "      <td>True</td>\n",
       "    </tr>\n",
       "    <tr>\n",
       "      <th>1738</th>\n",
       "      <td>6093</td>\n",
       "      <td>1.0</td>\n",
       "      <td>0</td>\n",
       "      <td>False</td>\n",
       "    </tr>\n",
       "  </tbody>\n",
       "</table>\n",
       "<p>1739 rows × 4 columns</p>\n",
       "</div>"
      ],
      "text/plain": [
       "      PassengerId  Predicted  Actual  Correct\n",
       "0             304        0.0       1    False\n",
       "1            2697        0.0       0     True\n",
       "2            8424        1.0       0    False\n",
       "3            1672        0.0       1    False\n",
       "4            8458        1.0       1     True\n",
       "...           ...        ...     ...      ...\n",
       "1734         7175        1.0       0    False\n",
       "1735         3187        1.0       1     True\n",
       "1736         1302        0.0       0     True\n",
       "1737         5934        1.0       1     True\n",
       "1738         6093        1.0       0    False\n",
       "\n",
       "[1739 rows x 4 columns]"
      ]
     },
     "execution_count": 53,
     "metadata": {},
     "output_type": "execute_result"
    }
   ],
   "source": [
    "test_output"
   ]
  },
  {
   "cell_type": "code",
   "execution_count": 54,
   "id": "9ff69ca0",
   "metadata": {
    "execution": {
     "iopub.execute_input": "2023-08-10T00:23:55.845980Z",
     "iopub.status.busy": "2023-08-10T00:23:55.845591Z",
     "iopub.status.idle": "2023-08-10T00:23:55.852815Z",
     "shell.execute_reply": "2023-08-10T00:23:55.851725Z"
    },
    "papermill": {
     "duration": 0.029956,
     "end_time": "2023-08-10T00:23:55.854980",
     "exception": false,
     "start_time": "2023-08-10T00:23:55.825024",
     "status": "completed"
    },
    "tags": []
   },
   "outputs": [
    {
     "data": {
      "text/plain": [
       "0.750431282346176"
      ]
     },
     "execution_count": 54,
     "metadata": {},
     "output_type": "execute_result"
    }
   ],
   "source": [
    "test_output[\"Correct\"].sum() / 1739"
   ]
  },
  {
   "cell_type": "markdown",
   "id": "c8e15d9c",
   "metadata": {
    "papermill": {
     "duration": 0.018576,
     "end_time": "2023-08-10T00:23:55.892609",
     "exception": false,
     "start_time": "2023-08-10T00:23:55.874033",
     "status": "completed"
    },
    "tags": []
   },
   "source": [
    "Submission"
   ]
  },
  {
   "cell_type": "code",
   "execution_count": 55,
   "id": "1a13b8af",
   "metadata": {
    "execution": {
     "iopub.execute_input": "2023-08-10T00:23:55.932733Z",
     "iopub.status.busy": "2023-08-10T00:23:55.932342Z",
     "iopub.status.idle": "2023-08-10T00:23:55.950563Z",
     "shell.execute_reply": "2023-08-10T00:23:55.949543Z"
    },
    "papermill": {
     "duration": 0.04117,
     "end_time": "2023-08-10T00:23:55.953033",
     "exception": false,
     "start_time": "2023-08-10T00:23:55.911863",
     "status": "completed"
    },
    "tags": []
   },
   "outputs": [],
   "source": [
    "submission_predictions = accuracy_best.predict(submit_prepared)\n",
    "\n",
    "\n",
    "output = pd.DataFrame({'PassengerId': submission_id,\n",
    "                       'Transported': submission_predictions.squeeze()})"
   ]
  },
  {
   "cell_type": "code",
   "execution_count": 56,
   "id": "ee0099bb",
   "metadata": {
    "execution": {
     "iopub.execute_input": "2023-08-10T00:23:55.993113Z",
     "iopub.status.busy": "2023-08-10T00:23:55.992729Z",
     "iopub.status.idle": "2023-08-10T00:23:56.006813Z",
     "shell.execute_reply": "2023-08-10T00:23:56.005774Z"
    },
    "papermill": {
     "duration": 0.036602,
     "end_time": "2023-08-10T00:23:56.008847",
     "exception": false,
     "start_time": "2023-08-10T00:23:55.972245",
     "status": "completed"
    },
    "tags": []
   },
   "outputs": [
    {
     "data": {
      "text/html": [
       "<div>\n",
       "<style scoped>\n",
       "    .dataframe tbody tr th:only-of-type {\n",
       "        vertical-align: middle;\n",
       "    }\n",
       "\n",
       "    .dataframe tbody tr th {\n",
       "        vertical-align: top;\n",
       "    }\n",
       "\n",
       "    .dataframe thead th {\n",
       "        text-align: right;\n",
       "    }\n",
       "</style>\n",
       "<table border=\"1\" class=\"dataframe\">\n",
       "  <thead>\n",
       "    <tr style=\"text-align: right;\">\n",
       "      <th></th>\n",
       "      <th>PassengerId</th>\n",
       "      <th>Transported</th>\n",
       "    </tr>\n",
       "  </thead>\n",
       "  <tbody>\n",
       "    <tr>\n",
       "      <th>0</th>\n",
       "      <td>0013_01</td>\n",
       "      <td>True</td>\n",
       "    </tr>\n",
       "    <tr>\n",
       "      <th>1</th>\n",
       "      <td>0018_01</td>\n",
       "      <td>False</td>\n",
       "    </tr>\n",
       "    <tr>\n",
       "      <th>2</th>\n",
       "      <td>0019_01</td>\n",
       "      <td>True</td>\n",
       "    </tr>\n",
       "    <tr>\n",
       "      <th>3</th>\n",
       "      <td>0021_01</td>\n",
       "      <td>False</td>\n",
       "    </tr>\n",
       "    <tr>\n",
       "      <th>4</th>\n",
       "      <td>0023_01</td>\n",
       "      <td>False</td>\n",
       "    </tr>\n",
       "    <tr>\n",
       "      <th>...</th>\n",
       "      <td>...</td>\n",
       "      <td>...</td>\n",
       "    </tr>\n",
       "    <tr>\n",
       "      <th>4272</th>\n",
       "      <td>9266_02</td>\n",
       "      <td>True</td>\n",
       "    </tr>\n",
       "    <tr>\n",
       "      <th>4273</th>\n",
       "      <td>9269_01</td>\n",
       "      <td>True</td>\n",
       "    </tr>\n",
       "    <tr>\n",
       "      <th>4274</th>\n",
       "      <td>9271_01</td>\n",
       "      <td>True</td>\n",
       "    </tr>\n",
       "    <tr>\n",
       "      <th>4275</th>\n",
       "      <td>9273_01</td>\n",
       "      <td>True</td>\n",
       "    </tr>\n",
       "    <tr>\n",
       "      <th>4276</th>\n",
       "      <td>9277_01</td>\n",
       "      <td>True</td>\n",
       "    </tr>\n",
       "  </tbody>\n",
       "</table>\n",
       "<p>4277 rows × 2 columns</p>\n",
       "</div>"
      ],
      "text/plain": [
       "     PassengerId  Transported\n",
       "0        0013_01         True\n",
       "1        0018_01        False\n",
       "2        0019_01         True\n",
       "3        0021_01        False\n",
       "4        0023_01        False\n",
       "...          ...          ...\n",
       "4272     9266_02         True\n",
       "4273     9269_01         True\n",
       "4274     9271_01         True\n",
       "4275     9273_01         True\n",
       "4276     9277_01         True\n",
       "\n",
       "[4277 rows x 2 columns]"
      ]
     },
     "execution_count": 56,
     "metadata": {},
     "output_type": "execute_result"
    }
   ],
   "source": [
    "output.Transported = output.Transported.replace({1.0: True, 0.0: False})\n",
    "output"
   ]
  },
  {
   "cell_type": "code",
   "execution_count": 57,
   "id": "31b4461c",
   "metadata": {
    "execution": {
     "iopub.execute_input": "2023-08-10T00:23:56.048884Z",
     "iopub.status.busy": "2023-08-10T00:23:56.048522Z",
     "iopub.status.idle": "2023-08-10T00:23:56.062019Z",
     "shell.execute_reply": "2023-08-10T00:23:56.060942Z"
    },
    "papermill": {
     "duration": 0.036305,
     "end_time": "2023-08-10T00:23:56.064586",
     "exception": false,
     "start_time": "2023-08-10T00:23:56.028281",
     "status": "completed"
    },
    "tags": []
   },
   "outputs": [],
   "source": [
    "output.to_csv('/kaggle/working/submission.csv', index=False)"
   ]
  }
 ],
 "metadata": {
  "kernelspec": {
   "display_name": "Python 3",
   "language": "python",
   "name": "python3"
  },
  "language_info": {
   "codemirror_mode": {
    "name": "ipython",
    "version": 3
   },
   "file_extension": ".py",
   "mimetype": "text/x-python",
   "name": "python",
   "nbconvert_exporter": "python",
   "pygments_lexer": "ipython3",
   "version": "3.10.12"
  },
  "papermill": {
   "default_parameters": {},
   "duration": 154.780697,
   "end_time": "2023-08-10T00:23:57.006773",
   "environment_variables": {},
   "exception": null,
   "input_path": "__notebook__.ipynb",
   "output_path": "__notebook__.ipynb",
   "parameters": {},
   "start_time": "2023-08-10T00:21:22.226076",
   "version": "2.4.0"
  }
 },
 "nbformat": 4,
 "nbformat_minor": 5
}
